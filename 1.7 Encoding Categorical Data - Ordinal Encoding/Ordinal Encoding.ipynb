{
 "cells": [
  {
   "attachments": {},
   "cell_type": "markdown",
   "metadata": {},
   "source": [
    "# Encoding Categorical Data - Ordinal Encoding\n",
    "\n",
    "\n",
    "Ordinal encoding is a method used to convert categorical variables with an inherent order or hierarchy into numerical values. It assigns a unique numerical label to each distinct category, preserving the ordinal relationship between the categories. This encoding is useful when the categorical variable has a meaningful order but does not have a numerical representation.\n",
    "\n",
    "For example, consider a variable \"education level\" with categories \"High School,\" \"Bachelor's,\" \"Master's,\" and \"Ph.D.\" In ordinal encoding, we could assign the labels 1, 2, 3, and 4 to these categories, respectively, based on their increasing educational attainment.\n",
    "\n",
    "The advantage of ordinal encoding is that it allows statistical models to understand and utilize the ordinal relationship between categories. However, it assumes an equal interval between the encoded values, which may not always hold true. If the intervals between categories are not uniform or the data does not exhibit a clear order, alternative encoding methods like one-hot encoding or target encoding may be more appropriate."
   ]
  },
  {
   "cell_type": "code",
   "execution_count": 16,
   "metadata": {},
   "outputs": [],
   "source": [
    "# Import necessary libraries\n",
    "import pandas as pd\n",
    "from sklearn.preprocessing import OrdinalEncoder"
   ]
  },
  {
   "cell_type": "code",
   "execution_count": 17,
   "metadata": {},
   "outputs": [],
   "source": [
    "# Create a sample dataset\n",
    "data = pd.DataFrame({\n",
    "    'Education': ['High School', 'Bachelor\\'s', 'Master\\'s', 'Ph.D.', 'Bachelor\\'s', 'Master\\'s']\n",
    "})"
   ]
  },
  {
   "cell_type": "code",
   "execution_count": 18,
   "metadata": {},
   "outputs": [],
   "source": [
    "# Initialize the ordinal encoder\n",
    "encoder = OrdinalEncoder()"
   ]
  },
  {
   "cell_type": "code",
   "execution_count": 19,
   "metadata": {},
   "outputs": [],
   "source": [
    "# Fit and transform the data\n",
    "encoded_data = encoder.fit_transform(data)"
   ]
  },
  {
   "cell_type": "code",
   "execution_count": 20,
   "metadata": {},
   "outputs": [],
   "source": [
    "# Convert the encoded data back to a DataFrame\n",
    "encoded_df = pd.DataFrame(encoded_data, columns=data.columns)"
   ]
  },
  {
   "cell_type": "code",
   "execution_count": 21,
   "metadata": {},
   "outputs": [
    {
     "name": "stdout",
     "output_type": "stream",
     "text": [
      "Original Data:\n",
      "     Education\n",
      "0  High School\n",
      "1   Bachelor's\n",
      "2     Master's\n",
      "3        Ph.D.\n",
      "4   Bachelor's\n",
      "5     Master's\n",
      "\n",
      "Encoded Data:\n",
      "   Education\n",
      "0        1.0\n",
      "1        0.0\n",
      "2        2.0\n",
      "3        3.0\n",
      "4        0.0\n",
      "5        2.0\n"
     ]
    }
   ],
   "source": [
    "# Print the original and encoded data\n",
    "print(\"Original Data:\")\n",
    "print(data)\n",
    "print(\"\\nEncoded Data:\")\n",
    "print(encoded_df)"
   ]
  },
  {
   "attachments": {},
   "cell_type": "markdown",
   "metadata": {},
   "source": [
    "In this example, we have a dataset with a single categorical variable \"Education\" that represents different levels of education. We use the OrdinalEncoder from scikit-learn to perform the ordinal encoding.\n",
    "\n",
    "The dataset is defined as a pandas DataFrame, and we import the necessary libraries, including OrdinalEncoder from scikit-learn. We then create a sample dataset with the \"Education\" variable containing different education levels.\n",
    "\n",
    "Next, we initialize the OrdinalEncoder and use the fit_transform method to fit the encoder to the data and simultaneously transform the data into its encoded form.\n",
    "\n",
    "Finally, we convert the encoded data back to a DataFrame for better visualization and print both the original and encoded data."
   ]
  }
 ],
 "metadata": {
  "kernelspec": {
   "display_name": "Python 3 (ipykernel)",
   "language": "python",
   "name": "python3"
  },
  "language_info": {
   "codemirror_mode": {
    "name": "ipython",
    "version": 3
   },
   "file_extension": ".py",
   "mimetype": "text/x-python",
   "name": "python",
   "nbconvert_exporter": "python",
   "pygments_lexer": "ipython3",
   "version": "3.10.4"
  }
 },
 "nbformat": 4,
 "nbformat_minor": 4
}
