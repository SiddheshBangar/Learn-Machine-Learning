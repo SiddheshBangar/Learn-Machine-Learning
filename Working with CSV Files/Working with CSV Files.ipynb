{
 "cells": [
  {
   "cell_type": "markdown",
   "id": "careful-person",
   "metadata": {},
   "source": [
    "# ⚡ Working with CSV Files"
   ]
  },
  {
   "cell_type": "markdown",
   "id": "beginning-location",
   "metadata": {},
   "source": [
    "### 📌 Importing Pandas"
   ]
  },
  {
   "cell_type": "code",
   "execution_count": 36,
   "id": "capital-burning",
   "metadata": {},
   "outputs": [],
   "source": [
    "import pandas as pd "
   ]
  },
  {
   "cell_type": "markdown",
   "id": "geological-heating",
   "metadata": {},
   "source": [
    "### 📌 Reading CSV dataset"
   ]
  },
  {
   "cell_type": "code",
   "execution_count": 7,
   "id": "conscious-place",
   "metadata": {},
   "outputs": [],
   "source": [
    "df = pd.read_csv('aug_train.csv')"
   ]
  },
  {
   "cell_type": "markdown",
   "id": "spare-indonesian",
   "metadata": {},
   "source": [
    "### 📌 Reading CSV Dataset from a URL"
   ]
  },
  {
   "cell_type": "code",
   "execution_count": null,
   "id": "compatible-album",
   "metadata": {},
   "outputs": [],
   "source": [
    "import requests\n",
    "from io import StringIO\n",
    "\n",
    "url = ''\n",
    "headers = {\"User-Agent\": \"Morzilla/0.5 (Macintosh: Intel Mac OS X 1-.14; r:66.0) Geecko 200100101 Firefox/66.0\"}\n",
    "req = requests.get(url, headers=headers)\n",
    "data = StringIO(req.text)\n",
    "\n",
    "df = pd.read_csv(data)"
   ]
  },
  {
   "cell_type": "markdown",
   "id": "involved-destination",
   "metadata": {},
   "source": [
    "### 📌 Sep parameter"
   ]
  },
  {
   "cell_type": "code",
   "execution_count": null,
   "id": "thorough-comparative",
   "metadata": {},
   "outputs": [],
   "source": [
    "df = pd.read_csv('insert a TSV File', sep='\\t')"
   ]
  },
  {
   "cell_type": "markdown",
   "id": "disciplinary-checklist",
   "metadata": {},
   "source": [
    "### 📌 Assigning column as an index"
   ]
  },
  {
   "cell_type": "code",
   "execution_count": 22,
   "id": "australian-illustration",
   "metadata": {},
   "outputs": [],
   "source": [
    "df = pd.read_csv('aug_train.csv', index_col='enrollee_id')"
   ]
  },
  {
   "cell_type": "markdown",
   "id": "terminal-gregory",
   "metadata": {},
   "source": [
    "### 📌 Assigning Row as Header"
   ]
  },
  {
   "cell_type": "code",
   "execution_count": 14,
   "id": "contrary-terrorism",
   "metadata": {},
   "outputs": [],
   "source": [
    "df = pd.read_csv('test.csv',header=1)"
   ]
  },
  {
   "cell_type": "markdown",
   "id": "incident-queensland",
   "metadata": {},
   "source": [
    "### 📌 Using particular columns for dataset"
   ]
  },
  {
   "cell_type": "code",
   "execution_count": 20,
   "id": "saved-possible",
   "metadata": {},
   "outputs": [],
   "source": [
    "df = pd.read_csv('aug_train.csv', usecols=['city', 'gender', 'experience'])"
   ]
  },
  {
   "cell_type": "markdown",
   "id": "anonymous-campus",
   "metadata": {},
   "source": [
    "### 📌 Changing from Dataframe to Series"
   ]
  },
  {
   "cell_type": "code",
   "execution_count": 23,
   "id": "defined-provincial",
   "metadata": {},
   "outputs": [],
   "source": [
    "df = pd.read_csv('aug_train.csv', usecols=['city', 'gender', 'experience'], squeeze=True)"
   ]
  },
  {
   "cell_type": "markdown",
   "id": "reverse-carry",
   "metadata": {},
   "source": [
    "### 📌 Skipping rows"
   ]
  },
  {
   "cell_type": "code",
   "execution_count": 24,
   "id": "portable-alliance",
   "metadata": {},
   "outputs": [],
   "source": [
    "df = pd.read_csv('aug_train.csv', skiprows=[0,5])"
   ]
  },
  {
   "cell_type": "markdown",
   "id": "tutorial-aluminum",
   "metadata": {},
   "source": [
    "### 📌 Encoding a Dataset"
   ]
  },
  {
   "cell_type": "code",
   "execution_count": 25,
   "id": "polyphonic-consultation",
   "metadata": {},
   "outputs": [],
   "source": [
    "df = pd.read_csv('zomato.csv', encoding='latin-1')"
   ]
  },
  {
   "cell_type": "markdown",
   "id": "published-bookmark",
   "metadata": {},
   "source": [
    "### 📌 Removing errors from CSV Files"
   ]
  },
  {
   "cell_type": "code",
   "execution_count": 27,
   "id": "south-domestic",
   "metadata": {},
   "outputs": [],
   "source": [
    "df = pd.read_csv('zomato.csv', encoding='latin-1',sep=',', error_bad_lines=False)"
   ]
  },
  {
   "cell_type": "markdown",
   "id": "vital-introduction",
   "metadata": {},
   "source": [
    "### 📌 Changing datatype of a column"
   ]
  },
  {
   "cell_type": "code",
   "execution_count": 28,
   "id": "bronze-blake",
   "metadata": {},
   "outputs": [],
   "source": [
    "df = pd.read_csv('aug_train.csv', dtype={'target':int})"
   ]
  },
  {
   "cell_type": "markdown",
   "id": "closing-transformation",
   "metadata": {},
   "source": [
    "### 📌 Parsing Dates"
   ]
  },
  {
   "cell_type": "code",
   "execution_count": 30,
   "id": "wound-geography",
   "metadata": {},
   "outputs": [],
   "source": [
    "df = pd.read_csv(\"IPL Matches 2008-2020.csv\", parse_dates=['date'])"
   ]
  },
  {
   "cell_type": "markdown",
   "id": "heard-helen",
   "metadata": {},
   "source": [
    "### 📌 Renaming a particular set of data"
   ]
  },
  {
   "cell_type": "code",
   "execution_count": 33,
   "id": "latin-input",
   "metadata": {},
   "outputs": [],
   "source": [
    "def rename(name):\n",
    "    if name == 'Royal Challengers Banglore':\n",
    "        return 'RCB'\n",
    "    else :\n",
    "        return name\n",
    "    \n",
    "df = pd.read_csv('IPL Matches 2008-2020.csv', converters={'team1':rename})"
   ]
  },
  {
   "cell_type": "markdown",
   "id": "cultural-words",
   "metadata": {},
   "source": [
    "### 📌 Assigning NA Values to a data"
   ]
  },
  {
   "cell_type": "code",
   "execution_count": 34,
   "id": "mighty-marketplace",
   "metadata": {},
   "outputs": [],
   "source": [
    "df = pd.read_csv('aug_train.csv', na_values=['Male'])"
   ]
  },
  {
   "cell_type": "markdown",
   "id": "consistent-sacrifice",
   "metadata": {},
   "source": [
    "### 📌 Distributing Huge data into Chunks"
   ]
  },
  {
   "cell_type": "code",
   "execution_count": 35,
   "id": "golden-choir",
   "metadata": {},
   "outputs": [],
   "source": [
    "dfs = df = pd.read_csv('aug_train.csv', chunksize=5000)"
   ]
  }
 ],
 "metadata": {
  "kernelspec": {
   "display_name": "Python 3",
   "language": "python",
   "name": "python3"
  },
  "language_info": {
   "codemirror_mode": {
    "name": "ipython",
    "version": 3
   },
   "file_extension": ".py",
   "mimetype": "text/x-python",
   "name": "python",
   "nbconvert_exporter": "python",
   "pygments_lexer": "ipython3",
   "version": "3.7.9"
  }
 },
 "nbformat": 4,
 "nbformat_minor": 5
}
