{
 "cells": [
  {
   "attachments": {},
   "cell_type": "markdown",
   "id": "careful-person",
   "metadata": {},
   "source": [
    "# Working with CSV Files\n",
    "\n",
    "CSV stands for Comma Separated Values. It is a file format used to store tabular data, such as a spreadsheet or a database.\n",
    "\n",
    "A CSV file contains rows of data, where each row is represented by a line of text, and the values in the row are separated by commas. The first row of a CSV file typically contains headers that describe the columns of data.\n",
    "\n",
    "Here's an example of what a CSV file might look like:\n",
    "\n",
    "```CSV\n",
    "Name, Age, Gender\n",
    "John, 30, Male\n",
    "Jane, 25, Female\n",
    "Bob, 45, Male\n",
    "```\n",
    "\n",
    "CSV files are often used for data exchange between different software programs and can be opened in spreadsheet programs like Microsoft Excel or Google Sheets. They are also commonly used in data analysis and processing applications."
   ]
  },
  {
   "cell_type": "markdown",
   "id": "beginning-location",
   "metadata": {},
   "source": [
    "### 📌 Importing Pandas"
   ]
  },
  {
   "cell_type": "code",
   "execution_count": 7,
   "id": "capital-burning",
   "metadata": {},
   "outputs": [],
   "source": [
    "import pandas as pd "
   ]
  },
  {
   "cell_type": "markdown",
   "id": "geological-heating",
   "metadata": {},
   "source": [
    "### 📌 Reading CSV dataset"
   ]
  },
  {
   "cell_type": "code",
   "execution_count": 8,
   "id": "conscious-place",
   "metadata": {},
   "outputs": [],
   "source": [
    "df = pd.read_csv('aug_train.csv')"
   ]
  },
  {
   "cell_type": "markdown",
   "id": "disciplinary-checklist",
   "metadata": {},
   "source": [
    "### 📌 Assigning column as an index"
   ]
  },
  {
   "cell_type": "code",
   "execution_count": 9,
   "id": "australian-illustration",
   "metadata": {},
   "outputs": [],
   "source": [
    "df = pd.read_csv('aug_train.csv', index_col='enrollee_id')"
   ]
  },
  {
   "cell_type": "markdown",
   "id": "terminal-gregory",
   "metadata": {},
   "source": [
    "### 📌 Assigning Row as Header"
   ]
  },
  {
   "cell_type": "code",
   "execution_count": 10,
   "id": "contrary-terrorism",
   "metadata": {},
   "outputs": [],
   "source": [
    "df = pd.read_csv('test.csv',header=1)"
   ]
  },
  {
   "cell_type": "markdown",
   "id": "incident-queensland",
   "metadata": {},
   "source": [
    "### 📌 Using particular columns for dataset"
   ]
  },
  {
   "cell_type": "code",
   "execution_count": 11,
   "id": "saved-possible",
   "metadata": {},
   "outputs": [],
   "source": [
    "df = pd.read_csv('aug_train.csv', usecols=['city', 'gender', 'experience'])"
   ]
  },
  {
   "cell_type": "markdown",
   "id": "anonymous-campus",
   "metadata": {},
   "source": [
    "### 📌 Changing from Dataframe to Series"
   ]
  },
  {
   "cell_type": "code",
   "execution_count": 12,
   "id": "defined-provincial",
   "metadata": {},
   "outputs": [
    {
     "name": "stderr",
     "output_type": "stream",
     "text": [
      "/tmp/ipykernel_7184/4134467731.py:1: FutureWarning: The squeeze argument has been deprecated and will be removed in a future version. Append .squeeze(\"columns\") to the call to squeeze.\n",
      "\n",
      "\n",
      "  df = pd.read_csv('aug_train.csv', usecols=['city', 'gender', 'experience'], squeeze=True)\n"
     ]
    }
   ],
   "source": [
    "df = pd.read_csv('aug_train.csv', usecols=['city', 'gender', 'experience'], squeeze=True)"
   ]
  },
  {
   "cell_type": "markdown",
   "id": "reverse-carry",
   "metadata": {},
   "source": [
    "### 📌 Skipping rows"
   ]
  },
  {
   "cell_type": "code",
   "execution_count": 13,
   "id": "portable-alliance",
   "metadata": {},
   "outputs": [],
   "source": [
    "df = pd.read_csv('aug_train.csv', skiprows=[0,5])"
   ]
  },
  {
   "cell_type": "markdown",
   "id": "tutorial-aluminum",
   "metadata": {},
   "source": [
    "### 📌 Encoding a Dataset"
   ]
  },
  {
   "cell_type": "code",
   "execution_count": 14,
   "id": "polyphonic-consultation",
   "metadata": {},
   "outputs": [],
   "source": [
    "df = pd.read_csv('zomato.csv', encoding='latin-1')"
   ]
  },
  {
   "cell_type": "markdown",
   "id": "published-bookmark",
   "metadata": {},
   "source": [
    "### 📌 Removing errors from CSV Files"
   ]
  },
  {
   "cell_type": "code",
   "execution_count": 15,
   "id": "south-domestic",
   "metadata": {},
   "outputs": [
    {
     "name": "stderr",
     "output_type": "stream",
     "text": [
      "/tmp/ipykernel_7184/2540283188.py:1: FutureWarning: The error_bad_lines argument has been deprecated and will be removed in a future version. Use on_bad_lines in the future.\n",
      "\n",
      "\n",
      "  df = pd.read_csv('zomato.csv', encoding='latin-1',sep=',', error_bad_lines=False)\n"
     ]
    }
   ],
   "source": [
    "df = pd.read_csv('zomato.csv', encoding='latin-1',sep=',', error_bad_lines=False)"
   ]
  },
  {
   "cell_type": "markdown",
   "id": "vital-introduction",
   "metadata": {},
   "source": [
    "### 📌 Changing datatype of a column"
   ]
  },
  {
   "cell_type": "code",
   "execution_count": 16,
   "id": "bronze-blake",
   "metadata": {},
   "outputs": [],
   "source": [
    "df = pd.read_csv('aug_train.csv', dtype={'target':int})"
   ]
  },
  {
   "cell_type": "markdown",
   "id": "closing-transformation",
   "metadata": {},
   "source": [
    "### 📌 Parsing Dates"
   ]
  },
  {
   "cell_type": "code",
   "execution_count": 17,
   "id": "wound-geography",
   "metadata": {},
   "outputs": [],
   "source": [
    "df = pd.read_csv(\"IPL Matches 2008-2020.csv\", parse_dates=['date'])"
   ]
  },
  {
   "cell_type": "markdown",
   "id": "heard-helen",
   "metadata": {},
   "source": [
    "### 📌 Renaming a particular set of data"
   ]
  },
  {
   "cell_type": "code",
   "execution_count": 18,
   "id": "latin-input",
   "metadata": {},
   "outputs": [],
   "source": [
    "def rename(name):\n",
    "    if name == 'Royal Challengers Banglore':\n",
    "        return 'RCB'\n",
    "    else :\n",
    "        return name\n",
    "    \n",
    "df = pd.read_csv('IPL Matches 2008-2020.csv', converters={'team1':rename})"
   ]
  },
  {
   "cell_type": "markdown",
   "id": "cultural-words",
   "metadata": {},
   "source": [
    "### 📌 Assigning NA Values to a data"
   ]
  },
  {
   "cell_type": "code",
   "execution_count": 19,
   "id": "mighty-marketplace",
   "metadata": {},
   "outputs": [],
   "source": [
    "df = pd.read_csv('aug_train.csv', na_values=['Male'])"
   ]
  },
  {
   "cell_type": "markdown",
   "id": "consistent-sacrifice",
   "metadata": {},
   "source": [
    "### 📌 Distributing Huge data into Chunks"
   ]
  },
  {
   "cell_type": "code",
   "execution_count": 20,
   "id": "golden-choir",
   "metadata": {},
   "outputs": [],
   "source": [
    "dfs = df = pd.read_csv('aug_train.csv', chunksize=5000)"
   ]
  }
 ],
 "metadata": {
  "kernelspec": {
   "display_name": "Python 3",
   "language": "python",
   "name": "python3"
  },
  "language_info": {
   "codemirror_mode": {
    "name": "ipython",
    "version": 3
   },
   "file_extension": ".py",
   "mimetype": "text/x-python",
   "name": "python",
   "nbconvert_exporter": "python",
   "pygments_lexer": "ipython3",
   "version": "3.10.4"
  },
  "vscode": {
   "interpreter": {
    "hash": "3ad933181bd8a04b432d3370b9dc3b0662ad032c4dfaa4e4f1596c548f763858"
   }
  }
 },
 "nbformat": 4,
 "nbformat_minor": 5
}
