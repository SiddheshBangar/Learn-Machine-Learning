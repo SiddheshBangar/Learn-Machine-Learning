{
 "cells": [
  {
   "cell_type": "markdown",
   "id": "underlying-procedure",
   "metadata": {},
   "source": [
    "# ⚡ Polynomial Regression"
   ]
  },
  {
   "cell_type": "code",
   "execution_count": 1,
   "id": "d2fcc898",
   "metadata": {},
   "outputs": [],
   "source": [
    "import numpy as np\n",
    "import matplotlib.pyplot as plt\n",
    "\n",
    "from sklearn.model_selection import train_test_split\n",
    "\n",
    "from sklearn.linear_model import LinearRegression,SGDRegressor\n",
    "\n",
    "from sklearn.preprocessing import PolynomialFeatures,StandardScaler\n",
    "\n",
    "from sklearn.metrics import r2_score\n",
    "\n",
    "from sklearn.pipeline import Pipeline"
   ]
  },
  {
   "cell_type": "code",
   "execution_count": 2,
   "id": "c929c0ff",
   "metadata": {},
   "outputs": [],
   "source": [
    "X = 6 * np.random.rand(200, 1) - 3\n",
    "y = 0.8 * X**2 + 0.9 * X + 2 + np.random.randn(200, 1)\n",
    "\n",
    "# y = 0.8x^2 + 0.9x + 2"
   ]
  },
  {
   "cell_type": "code",
   "execution_count": 3,
   "id": "4dbb8ca1",
   "metadata": {},
   "outputs": [
    {
     "data": {
      "image/png": "[encoded data removed]",
      "text/plain": [
       "<Figure size 432x288 with 1 Axes>"
      ]
     },
     "metadata": {
      "needs_background": "light"
     },
     "output_type": "display_data"
    }
   ],
   "source": [
    "plt.plot(X, y,'b.')\n",
    "plt.xlabel(\"X\")\n",
    "plt.ylabel(\"y\")\n",
    "plt.show()"
   ]
  },
  {
   "cell_type": "code",
   "execution_count": 4,
   "id": "aaacb73d",
   "metadata": {},
   "outputs": [],
   "source": [
    "# Train test split\n",
    "X_train,X_test,y_train,y_test = train_test_split(X,y,test_size=0.2,random_state=2)"
   ]
  },
  {
   "cell_type": "code",
   "execution_count": 5,
   "id": "398d34ad",
   "metadata": {},
   "outputs": [],
   "source": [
    "# Applying linear regression\n",
    "lr = LinearRegression()"
   ]
  },
  {
   "cell_type": "code",
   "execution_count": 6,
   "id": "4223f668",
   "metadata": {},
   "outputs": [
    {
     "data": {
      "text/plain": [
       "LinearRegression()"
      ]
     },
     "execution_count": 6,
     "metadata": {},
     "output_type": "execute_result"
    }
   ],
   "source": [
    "lr.fit(X_train,y_train)"
   ]
  },
  {
   "cell_type": "code",
   "execution_count": 7,
   "id": "40d930bc",
   "metadata": {},
   "outputs": [
    {
     "data": {
      "text/plain": [
       "0.24153934583167558"
      ]
     },
     "execution_count": 7,
     "metadata": {},
     "output_type": "execute_result"
    }
   ],
   "source": [
    "y_pred = lr.predict(X_test)\n",
    "r2_score(y_test,y_pred)"
   ]
  },
  {
   "cell_type": "code",
   "execution_count": 8,
   "id": "826ec29a",
   "metadata": {},
   "outputs": [
    {
     "data": {
      "image/png": "[encoded data removed]",
      "text/plain": [
       "<Figure size 432x288 with 1 Axes>"
      ]
     },
     "metadata": {
      "needs_background": "light"
     },
     "output_type": "display_data"
    }
   ],
   "source": [
    "plt.plot(X_train,lr.predict(X_train),color='r')\n",
    "plt.plot(X, y, \"b.\")\n",
    "plt.xlabel(\"X\")\n",
    "plt.ylabel(\"y\")\n",
    "plt.show()"
   ]
  },
  {
   "cell_type": "code",
   "execution_count": 9,
   "id": "3499d04b",
   "metadata": {},
   "outputs": [],
   "source": [
    "# Applying Polynomial Linear Regression\n",
    "# degree 2\n",
    "poly = PolynomialFeatures(degree=2,include_bias=True)\n",
    "\n",
    "X_train_trans = poly.fit_transform(X_train)\n",
    "X_test_trans = poly.transform(X_test)"
   ]
  },
  {
   "cell_type": "code",
   "execution_count": 10,
   "id": "be131b5d",
   "metadata": {},
   "outputs": [
    {
     "name": "stdout",
     "output_type": "stream",
     "text": [
      "[-1.80169847]\n",
      "[ 1.         -1.80169847  3.24611738]\n"
     ]
    }
   ],
   "source": [
    "print(X_train[0])\n",
    "print(X_train_trans[0])"
   ]
  },
  {
   "cell_type": "code",
   "execution_count": 11,
   "id": "60691ef2",
   "metadata": {},
   "outputs": [],
   "source": [
    "# include_bias parameter"
   ]
  },
  {
   "cell_type": "code",
   "execution_count": 12,
   "id": "e316df6e",
   "metadata": {},
   "outputs": [
    {
     "data": {
      "text/plain": [
       "LinearRegression()"
      ]
     },
     "execution_count": 12,
     "metadata": {},
     "output_type": "execute_result"
    }
   ],
   "source": [
    "lr = LinearRegression()\n",
    "lr.fit(X_train_trans,y_train)"
   ]
  },
  {
   "cell_type": "code",
   "execution_count": 13,
   "id": "ff5960ed",
   "metadata": {},
   "outputs": [],
   "source": [
    "y_pred = lr.predict(X_test_trans)"
   ]
  },
  {
   "cell_type": "code",
   "execution_count": 14,
   "id": "3b2af778",
   "metadata": {},
   "outputs": [
    {
     "data": {
      "text/plain": [
       "0.8478798966378377"
      ]
     },
     "execution_count": 14,
     "metadata": {},
     "output_type": "execute_result"
    }
   ],
   "source": [
    "r2_score(y_test,y_pred)"
   ]
  },
  {
   "cell_type": "code",
   "execution_count": 15,
   "id": "1d5ac42b",
   "metadata": {},
   "outputs": [
    {
     "name": "stdout",
     "output_type": "stream",
     "text": [
      "[[0.         0.90725884 0.81460396]]\n",
      "[1.7431297]\n"
     ]
    }
   ],
   "source": [
    "print(lr.coef_)\n",
    "print(lr.intercept_)"
   ]
  },
  {
   "cell_type": "code",
   "execution_count": 16,
   "id": "d3a4d4be",
   "metadata": {},
   "outputs": [],
   "source": [
    "X_new=np.linspace(-3, 3, 200).reshape(200, 1)\n",
    "X_new_poly = poly.transform(X_new)\n",
    "y_new = lr.predict(X_new_poly)"
   ]
  },
  {
   "cell_type": "code",
   "execution_count": 17,
   "id": "99d73c4e",
   "metadata": {},
   "outputs": [
    {
     "data": {
      "image/png": "[encoded data removed]",
      "text/plain": [
       "<Figure size 432x288 with 1 Axes>"
      ]
     },
     "metadata": {
      "needs_background": "light"
     },
     "output_type": "display_data"
    }
   ],
   "source": [
    "plt.plot(X_new, y_new, \"r-\", linewidth=2, label=\"Predictions\")\n",
    "plt.plot(X_train, y_train, \"b.\",label='Training points')\n",
    "plt.plot(X_test, y_test, \"g.\",label='Testing points')\n",
    "plt.xlabel(\"X\")\n",
    "plt.ylabel(\"y\")\n",
    "plt.legend()\n",
    "plt.show()"
   ]
  },
  {
   "cell_type": "code",
   "execution_count": 18,
   "id": "4313857c",
   "metadata": {},
   "outputs": [],
   "source": [
    "def polynomial_regression(degree):\n",
    "    X_new=np.linspace(-3, 3, 100).reshape(100, 1)\n",
    "    X_new_poly = poly.transform(X_new)\n",
    "\n",
    "    polybig_features = PolynomialFeatures(degree=degree, include_bias=False)\n",
    "    std_scaler = StandardScaler()\n",
    "    lin_reg = LinearRegression()\n",
    "    polynomial_regression = Pipeline([\n",
    "            (\"poly_features\", polybig_features),\n",
    "            (\"std_scaler\", std_scaler),\n",
    "            (\"lin_reg\", lin_reg),\n",
    "        ])\n",
    "    polynomial_regression.fit(X, y)\n",
    "    y_newbig = polynomial_regression.predict(X_new)\n",
    "    plt.plot(X_new, y_newbig,'r', label=\"Degree \" + str(degree), linewidth=2)\n",
    "\n",
    "    plt.plot(X_train, y_train, \"b.\", linewidth=3)\n",
    "    plt.plot(X_test, y_test, \"g.\", linewidth=3)\n",
    "    plt.legend(loc=\"upper left\")\n",
    "    plt.xlabel(\"X\")\n",
    "    plt.ylabel(\"y\")\n",
    "    plt.axis([-3, 3, 0, 10])\n",
    "    plt.show()"
   ]
  },
  {
   "cell_type": "code",
   "execution_count": 19,
   "id": "8e56415e",
   "metadata": {},
   "outputs": [
    {
     "name": "stderr",
     "output_type": "stream",
     "text": [
      "C:\\Anaconda3\\lib\\site-packages\\sklearn\\utils\\extmath.py:1014: RuntimeWarning: overflow encountered in square\n",
      "  temp **= 2\n",
      "C:\\Anaconda3\\lib\\site-packages\\numpy\\core\\fromnumeric.py:90: RuntimeWarning: overflow encountered in reduce\n",
      "  return ufunc.reduce(obj, axis, dtype, out, **passkwargs)\n"
     ]
    },
    {
     "data": {
      "image/png": "[encoded data removed]",
      "text/plain": [
       "<Figure size 432x288 with 1 Axes>"
      ]
     },
     "metadata": {
      "needs_background": "light"
     },
     "output_type": "display_data"
    }
   ],
   "source": [
    "polynomial_regression(350)"
   ]
  },
  {
   "cell_type": "code",
   "execution_count": 21,
   "id": "7da24a4b",
   "metadata": {},
   "outputs": [
    {
     "data": {
      "text/plain": [
       "array([[0],\n",
       "       [1],\n",
       "       [2]], dtype=int64)"
      ]
     },
     "execution_count": 21,
     "metadata": {},
     "output_type": "execute_result"
    }
   ],
   "source": [
    "poly.powers_"
   ]
  },
  {
   "cell_type": "code",
   "execution_count": 24,
   "id": "fb0d9c8e",
   "metadata": {},
   "outputs": [
    {
     "name": "stderr",
     "output_type": "stream",
     "text": [
      "C:\\Anaconda3\\lib\\site-packages\\sklearn\\utils\\validation.py:993: DataConversionWarning: A column-vector y was passed when a 1d array was expected. Please change the shape of y to (n_samples, ), for example using ravel().\n",
      "  y = column_or_1d(y, warn=True)\n"
     ]
    },
    {
     "data": {
      "image/png": "[encoded data removed]",
      "text/plain": [
       "<Figure size 432x288 with 1 Axes>"
      ]
     },
     "metadata": {
      "needs_background": "light"
     },
     "output_type": "display_data"
    }
   ],
   "source": [
    "# Applying Gradient Descent\n",
    "\n",
    "poly = PolynomialFeatures(degree=2)\n",
    "\n",
    "X_train_trans = poly.fit_transform(X_train)\n",
    "X_test_trans = poly.transform(X_test)\n",
    "\n",
    "sgd = SGDRegressor(max_iter=100)\n",
    "sgd.fit(X_train_trans,y_train)\n",
    "\n",
    "X_new=np.linspace(-2.9, 2.8, 200).reshape(200, 1)\n",
    "X_new_poly = poly.transform(X_new)\n",
    "y_new = sgd.predict(X_new_poly)\n",
    "\n",
    "y_pred = sgd.predict(X_test_trans)\n",
    "\n",
    "plt.plot(X_new, y_new, \"r-\", linewidth=2, label=\"Predictions \" + str(round(r2_score(y_test,y_pred),2)))\n",
    "plt.plot(X_train, y_train, \"b.\",label='Training points')\n",
    "plt.plot(X_test, y_test, \"g.\",label='Testing points')\n",
    "plt.xlabel(\"X\")\n",
    "plt.ylabel(\"y\")\n",
    "plt.legend()\n",
    "plt.show()"
   ]
  },
  {
   "cell_type": "code",
   "execution_count": 25,
   "id": "c3427a03",
   "metadata": {},
   "outputs": [],
   "source": [
    "# 3D polynomial regression\n",
    "x = 7 * np.random.rand(100, 1) - 2.8\n",
    "y = 7 * np.random.rand(100, 1) - 2.8\n",
    "\n",
    "z = x**2 + y**2 + 0.2*x + 0.2*y + 0.1*x*y +2 + np.random.randn(100, 1)\n",
    "# z = x^2 + y^2 + 0.2x + 0.2y + 0.1xy + 2"
   ]
  },
  {
   "cell_type": "code",
   "execution_count": 39,
   "id": "869809ab",
   "metadata": {},
   "outputs": [
    {
     "data": {
      "application/vnd.plotly.v1+json": {
       "config": {
        "plotlyServerURL": "https://plot.ly"
       },
       "data": [
        {
         "hovertemplate": "x=%{x}<br>y=%{y}<br>z=%{z}<extra></extra>",
         "legendgroup": "",
         "marker": {
          "color": "#636efa",
          "symbol": "circle"
         },
         "mode": "markers",
         "name": "",
         "scene": "scene",
         "showlegend": false,
         "type": "scatter3d",
         "x": [
          3.8822216410935146,
          -0.14883198887024207,
          0.6721904900331488,
          1.04260275575436,
          -1.818954513167986,
          1.4568960963189808,
          -0.5346661674014066,
          4.185092188712969,
          1.4505128619919105,
          4.031172075744557,
          3.476077664609412,
          -2.4055958048705817,
          2.8069845500039845,
          3.1227956996657946,
          -0.10477402806462122,
          -2.79824223228232,
          -0.5464887403036629,
          1.6965391790953577,
          3.6676084375114284,
          -2.101099529329196,
          -2.6099820255286126,
          0.5644898429262128,
          3.33264222632738,
          2.82396105704783,
          -2.698931123623738,
          2.4860710843622256,
          -2.606059709701162,
          3.5861582664733564,
          -0.47575819126009433,
          1.8365930998427613,
          0.9976304935417546,
          -0.8981458079389446,
          3.454159940699512,
          -2.7055577503155095,
          0.19469782888187037,
          2.7904916779809232,
          0.6243682635326016,
          3.4513409601710263,
          -0.01376698456256742,
          -0.18041595569357494,
          -1.9197489647033685,
          2.9970910970831026,
          3.0809457464087115,
          1.7160548304130314,
          1.1386792216263855,
          2.1245219708627063,
          1.8201864025449783,
          4.113129459946347,
          0.5306009641288258,
          -2.070132515943952,
          -2.516307829513531,
          2.5218790714744825,
          0.08942773939401505,
          1.0053277854070135,
          2.2272462508988564,
          2.735930311160957,
          1.1129077799088343,
          -0.4077203039833974,
          3.5435506778730206,
          1.4779350743952673,
          2.9856383901662493,
          3.1997597581927764,
          0.14408619544010337,
          3.6596986394030386,
          3.198658383612459,
          0.3673390674210468,
          3.3343783440511583,
          4.158540573256569,
          -2.6876293988734608,
          -2.6591235297768145,
          2.4265075572261523,
          -2.7442967506219684,
          0.8533962518910121,
          3.4648492690854056,
          3.605715350342636,
          0.5236029129563096,
          1.8533785357527846,
          -1.5176598905013843,
          0.4636214775597032,
          2.4941344909062764,
          -0.633182309373324,
          3.6158685027647195,
          2.018224395210053,
          1.440807370125607,
          0.3022797248415219,
          3.026456398559942,
          1.0691984748266363,
          4.122041981858704,
          0.7245652441714876,
          2.5058808143387807,
          3.261279457404168,
          0.4072661238653472,
          1.137819194957523,
          -2.5550981191687656,
          -0.1642023078134196,
          1.9509262523646873,
          1.852028272697928,
          -1.302416152906733,
          3.3149503271397958,
          2.035201075155463
         ],
         "y": [
          -1.8101965591846882,
          -2.6048345754449773,
          0.12996199533421215,
          3.6939785154650346,
          -2.427965603559091,
          3.592735396946064,
          -0.23525661830471556,
          -0.6241640154035442,
          3.5647702148739855,
          1.4427541083215925,
          0.39783493413230664,
          -0.5481067845334637,
          0.9437036751832886,
          0.42171871575275865,
          -1.8050476030487141,
          -0.21748227761365424,
          2.5998330976327866,
          1.3580903054916087,
          2.9097604726733586,
          -0.004050915715495762,
          3.7818152584339924,
          1.7999212057271947,
          3.6726704275525996,
          -2.0797803993687336,
          -1.0689873825198353,
          2.7890075132825736,
          2.9066336008907188,
          -2.6417140300685125,
          1.682232815537649,
          1.7545912419725083,
          -1.1155875734006866,
          1.1927522739581442,
          2.17201442193213,
          2.2345740144831128,
          2.98375736799309,
          2.859669566297387,
          2.2347613666681694,
          3.2766029667636394,
          2.247068515790537,
          1.4804480319771747,
          -1.1450752672130065,
          -2.2244581019123757,
          -0.46601442844159724,
          4.012729882969803,
          -1.4813835206361343,
          -2.398787236669456,
          -0.871933479366064,
          -1.237304360573104,
          -1.7951937533560587,
          -2.2771647006418325,
          2.116283881882244,
          0.5441358187264935,
          0.649332833681072,
          1.3277602384779907,
          1.887849077058588,
          -0.15409647797384318,
          -1.9887738410648226,
          -1.8572038847341623,
          3.8237893527546216,
          -2.3279915652581185,
          -1.0417338695673983,
          1.5389595804405145,
          4.108395337874005,
          -1.2574157939393529,
          0.832859513884534,
          -1.096371248284566,
          1.313766513926777,
          -1.084068829117184,
          -1.0765472535480614,
          3.4953404060875615,
          0.6225446789151459,
          -1.0938638114526502,
          3.263472961880269,
          0.6877415550946107,
          0.9862388286017421,
          1.7839222496693399,
          -2.4511989168581896,
          -1.5716301244613609,
          2.124311119576812,
          -0.6866838158073056,
          -0.08556924001130906,
          0.021199810853469447,
          2.4845747244987333,
          3.049819923384381,
          2.2936411035553537,
          -1.4973068058681123,
          0.014486147457983378,
          2.9460859378699915,
          -1.0628287690480493,
          -0.1777949906785663,
          -1.0931726722079573,
          3.6988545639113015,
          -1.4316095941737372,
          -0.84375669675762,
          2.6437670576271275,
          2.1220504568661385,
          0.9238643313842876,
          3.42189494092806,
          3.805319651363339,
          4.078721409895111
         ],
         "z": [
          19.617700897222452,
          9.454024924421777,
          2.3926396632650486,
          18.298747967604676,
          11.706614570871748,
          20.66605817317079,
          4.339996527262667,
          20.428170845126694,
          17.034752475063602,
          22.839206680655327,
          15.159896891325458,
          8.666410640756673,
          12.204921578074375,
          12.939774312630478,
          4.42204282916885,
          7.394691711147534,
          8.874327304284677,
          7.776497301722314,
          27.80848437639765,
          6.984580672137963,
          21.771292240615992,
          6.969669748461682,
          29.09463384167063,
          14.95652717824912,
          9.174868107839735,
          16.242939905102315,
          17.685654297719328,
          22.041616547536147,
          6.134515549522834,
          10.677655923610088,
          1.4071930912605524,
          3.0589757205881085,
          21.179473817011143,
          14.296614060204293,
          11.660197617436623,
          16.890220313586866,
          8.365290123438363,
          28.21392570992971,
          8.32277852720898,
          4.427203530536765,
          8.00978225227158,
          14.399594077571285,
          13.01950436149631,
          22.812230374791355,
          5.614736760105202,
          10.950552317340259,
          4.8662076812496675,
          20.901153310390217,
          3.4734650591798406,
          11.138391938279273,
          11.12715670947695,
          8.204789014775853,
          2.66233608952867,
          7.152702581733311,
          10.372156666502296,
          9.174501546867038,
          6.631609441335536,
          6.2702833376169025,
          33.49173720324617,
          8.889415664829869,
          13.121201701882116,
          16.76267303990486,
          18.531948802833295,
          18.269287115897367,
          15.349936501611197,
          5.355707077737162,
          17.045901307002378,
          21.493416023607512,
          11.130926774262692,
          21.04918934180446,
          10.465589963281843,
          9.830994457382594,
          13.320717451787678,
          17.357174495570053,
          17.325796006019882,
          6.300361124924468,
          11.387592483623026,
          6.321319859472338,
          6.0813135598936485,
          7.984814435781604,
          1.8618303115925312,
          16.43840756866645,
          13.746681681229916,
          13.391137739302598,
          7.19625725988725,
          13.344402249935996,
          3.4239212354396726,
          30.034930882316587,
          4.462986536505128,
          8.652199012340043,
          13.75931863881363,
          17.312419953426573,
          4.288944938388995,
          8.645001739960174,
          9.68291835331241,
          12.265266817591352,
          5.440721256267937,
          16.821905027117108,
          30.051832241486284,
          24.636068374951186
         ]
        }
       ],
       "layout": {
        "legend": {
         "tracegroupgap": 0
        },
        "margin": {
         "t": 60
        },
        "scene": {
         "domain": {
          "x": [
           0,
           1
          ],
          "y": [
           0,
           1
          ]
         },
         "xaxis": {
          "title": {
           "text": "x"
          }
         },
         "yaxis": {
          "title": {
           "text": "y"
          }
         },
         "zaxis": {
          "title": {
           "text": "z"
          }
         }
        },
        "template": {
         "data": {
          "bar": [
           {
            "error_x": {
             "color": "#2a3f5f"
            },
            "error_y": {
             "color": "#2a3f5f"
            },
            "marker": {
             "line": {
              "color": "#E5ECF6",
              "width": 0.5
             }
            },
            "type": "bar"
           }
          ],
          "barpolar": [
           {
            "marker": {
             "line": {
              "color": "#E5ECF6",
              "width": 0.5
             }
            },
            "type": "barpolar"
           }
          ],
          "carpet": [
           {
            "aaxis": {
             "endlinecolor": "#2a3f5f",
             "gridcolor": "white",
             "linecolor": "white",
             "minorgridcolor": "white",
             "startlinecolor": "#2a3f5f"
            },
            "baxis": {
             "endlinecolor": "#2a3f5f",
             "gridcolor": "white",
             "linecolor": "white",
             "minorgridcolor": "white",
             "startlinecolor": "#2a3f5f"
            },
            "type": "carpet"
           }
          ],
          "choropleth": [
           {
            "colorbar": {
             "outlinewidth": 0,
             "ticks": ""
            },
            "type": "choropleth"
           }
          ],
          "contour": [
           {
            "colorbar": {
             "outlinewidth": 0,
             "ticks": ""
            },
            "colorscale": [
             [
              0,
              "#0d0887"
             ],
             [
              0.1111111111111111,
              "#46039f"
             ],
             [
              0.2222222222222222,
              "#7201a8"
             ],
             [
              0.3333333333333333,
              "#9c179e"
             ],
             [
              0.4444444444444444,
              "#bd3786"
             ],
             [
              0.5555555555555556,
              "#d8576b"
             ],
             [
              0.6666666666666666,
              "#ed7953"
             ],
             [
              0.7777777777777778,
              "#fb9f3a"
             ],
             [
              0.8888888888888888,
              "#fdca26"
             ],
             [
              1,
              "#f0f921"
             ]
            ],
            "type": "contour"
           }
          ],
          "contourcarpet": [
           {
            "colorbar": {
             "outlinewidth": 0,
             "ticks": ""
            },
            "type": "contourcarpet"
           }
          ],
          "heatmap": [
           {
            "colorbar": {
             "outlinewidth": 0,
             "ticks": ""
            },
            "colorscale": [
             [
              0,
              "#0d0887"
             ],
             [
              0.1111111111111111,
              "#46039f"
             ],
             [
              0.2222222222222222,
              "#7201a8"
             ],
             [
              0.3333333333333333,
              "#9c179e"
             ],
             [
              0.4444444444444444,
              "#bd3786"
             ],
             [
              0.5555555555555556,
              "#d8576b"
             ],
             [
              0.6666666666666666,
              "#ed7953"
             ],
             [
              0.7777777777777778,
              "#fb9f3a"
             ],
             [
              0.8888888888888888,
              "#fdca26"
             ],
             [
              1,
              "#f0f921"
             ]
            ],
            "type": "heatmap"
           }
          ],
          "heatmapgl": [
           {
            "colorbar": {
             "outlinewidth": 0,
             "ticks": ""
            },
            "colorscale": [
             [
              0,
              "#0d0887"
             ],
             [
              0.1111111111111111,
              "#46039f"
             ],
             [
              0.2222222222222222,
              "#7201a8"
             ],
             [
              0.3333333333333333,
              "#9c179e"
             ],
             [
              0.4444444444444444,
              "#bd3786"
             ],
             [
              0.5555555555555556,
              "#d8576b"
             ],
             [
              0.6666666666666666,
              "#ed7953"
             ],
             [
              0.7777777777777778,
              "#fb9f3a"
             ],
             [
              0.8888888888888888,
              "#fdca26"
             ],
             [
              1,
              "#f0f921"
             ]
            ],
            "type": "heatmapgl"
           }
          ],
          "histogram": [
           {
            "marker": {
             "colorbar": {
              "outlinewidth": 0,
              "ticks": ""
             }
            },
            "type": "histogram"
           }
          ],
          "histogram2d": [
           {
            "colorbar": {
             "outlinewidth": 0,
             "ticks": ""
            },
            "colorscale": [
             [
              0,
              "#0d0887"
             ],
             [
              0.1111111111111111,
              "#46039f"
             ],
             [
              0.2222222222222222,
              "#7201a8"
             ],
             [
              0.3333333333333333,
              "#9c179e"
             ],
             [
              0.4444444444444444,
              "#bd3786"
             ],
             [
              0.5555555555555556,
              "#d8576b"
             ],
             [
              0.6666666666666666,
              "#ed7953"
             ],
             [
              0.7777777777777778,
              "#fb9f3a"
             ],
             [
              0.8888888888888888,
              "#fdca26"
             ],
             [
              1,
              "#f0f921"
             ]
            ],
            "type": "histogram2d"
           }
          ],
          "histogram2dcontour": [
           {
            "colorbar": {
             "outlinewidth": 0,
             "ticks": ""
            },
            "colorscale": [
             [
              0,
              "#0d0887"
             ],
             [
              0.1111111111111111,
              "#46039f"
             ],
             [
              0.2222222222222222,
              "#7201a8"
             ],
             [
              0.3333333333333333,
              "#9c179e"
             ],
             [
              0.4444444444444444,
              "#bd3786"
             ],
             [
              0.5555555555555556,
              "#d8576b"
             ],
             [
              0.6666666666666666,
              "#ed7953"
             ],
             [
              0.7777777777777778,
              "#fb9f3a"
             ],
             [
              0.8888888888888888,
              "#fdca26"
             ],
             [
              1,
              "#f0f921"
             ]
            ],
            "type": "histogram2dcontour"
           }
          ],
          "mesh3d": [
           {
            "colorbar": {
             "outlinewidth": 0,
             "ticks": ""
            },
            "type": "mesh3d"
           }
          ],
          "parcoords": [
           {
            "line": {
             "colorbar": {
              "outlinewidth": 0,
              "ticks": ""
             }
            },
            "type": "parcoords"
           }
          ],
          "pie": [
           {
            "automargin": true,
            "type": "pie"
           }
          ],
          "scatter": [
           {
            "marker": {
             "colorbar": {
              "outlinewidth": 0,
              "ticks": ""
             }
            },
            "type": "scatter"
           }
          ],
          "scatter3d": [
           {
            "line": {
             "colorbar": {
              "outlinewidth": 0,
              "ticks": ""
             }
            },
            "marker": {
             "colorbar": {
              "outlinewidth": 0,
              "ticks": ""
             }
            },
            "type": "scatter3d"
           }
          ],
          "scattercarpet": [
           {
            "marker": {
             "colorbar": {
              "outlinewidth": 0,
              "ticks": ""
             }
            },
            "type": "scattercarpet"
           }
          ],
          "scattergeo": [
           {
            "marker": {
             "colorbar": {
              "outlinewidth": 0,
              "ticks": ""
             }
            },
            "type": "scattergeo"
           }
          ],
          "scattergl": [
           {
            "marker": {
             "colorbar": {
              "outlinewidth": 0,
              "ticks": ""
             }
            },
            "type": "scattergl"
           }
          ],
          "scattermapbox": [
           {
            "marker": {
             "colorbar": {
              "outlinewidth": 0,
              "ticks": ""
             }
            },
            "type": "scattermapbox"
           }
          ],
          "scatterpolar": [
           {
            "marker": {
             "colorbar": {
              "outlinewidth": 0,
              "ticks": ""
             }
            },
            "type": "scatterpolar"
           }
          ],
          "scatterpolargl": [
           {
            "marker": {
             "colorbar": {
              "outlinewidth": 0,
              "ticks": ""
             }
            },
            "type": "scatterpolargl"
           }
          ],
          "scatterternary": [
           {
            "marker": {
             "colorbar": {
              "outlinewidth": 0,
              "ticks": ""
             }
            },
            "type": "scatterternary"
           }
          ],
          "surface": [
           {
            "colorbar": {
             "outlinewidth": 0,
             "ticks": ""
            },
            "colorscale": [
             [
              0,
              "#0d0887"
             ],
             [
              0.1111111111111111,
              "#46039f"
             ],
             [
              0.2222222222222222,
              "#7201a8"
             ],
             [
              0.3333333333333333,
              "#9c179e"
             ],
             [
              0.4444444444444444,
              "#bd3786"
             ],
             [
              0.5555555555555556,
              "#d8576b"
             ],
             [
              0.6666666666666666,
              "#ed7953"
             ],
             [
              0.7777777777777778,
              "#fb9f3a"
             ],
             [
              0.8888888888888888,
              "#fdca26"
             ],
             [
              1,
              "#f0f921"
             ]
            ],
            "type": "surface"
           }
          ],
          "table": [
           {
            "cells": {
             "fill": {
              "color": "#EBF0F8"
             },
             "line": {
              "color": "white"
             }
            },
            "header": {
             "fill": {
              "color": "#C8D4E3"
             },
             "line": {
              "color": "white"
             }
            },
            "type": "table"
           }
          ]
         },
         "layout": {
          "annotationdefaults": {
           "arrowcolor": "#2a3f5f",
           "arrowhead": 0,
           "arrowwidth": 1
          },
          "autotypenumbers": "strict",
          "coloraxis": {
           "colorbar": {
            "outlinewidth": 0,
            "ticks": ""
           }
          },
          "colorscale": {
           "diverging": [
            [
             0,
             "#8e0152"
            ],
            [
             0.1,
             "#c51b7d"
            ],
            [
             0.2,
             "#de77ae"
            ],
            [
             0.3,
             "#f1b6da"
            ],
            [
             0.4,
             "#fde0ef"
            ],
            [
             0.5,
             "#f7f7f7"
            ],
            [
             0.6,
             "#e6f5d0"
            ],
            [
             0.7,
             "#b8e186"
            ],
            [
             0.8,
             "#7fbc41"
            ],
            [
             0.9,
             "#4d9221"
            ],
            [
             1,
             "#276419"
            ]
           ],
           "sequential": [
            [
             0,
             "#0d0887"
            ],
            [
             0.1111111111111111,
             "#46039f"
            ],
            [
             0.2222222222222222,
             "#7201a8"
            ],
            [
             0.3333333333333333,
             "#9c179e"
            ],
            [
             0.4444444444444444,
             "#bd3786"
            ],
            [
             0.5555555555555556,
             "#d8576b"
            ],
            [
             0.6666666666666666,
             "#ed7953"
            ],
            [
             0.7777777777777778,
             "#fb9f3a"
            ],
            [
             0.8888888888888888,
             "#fdca26"
            ],
            [
             1,
             "#f0f921"
            ]
           ],
           "sequentialminus": [
            [
             0,
             "#0d0887"
            ],
            [
             0.1111111111111111,
             "#46039f"
            ],
            [
             0.2222222222222222,
             "#7201a8"
            ],
            [
             0.3333333333333333,
             "#9c179e"
            ],
            [
             0.4444444444444444,
             "#bd3786"
            ],
            [
             0.5555555555555556,
             "#d8576b"
            ],
            [
             0.6666666666666666,
             "#ed7953"
            ],
            [
             0.7777777777777778,
             "#fb9f3a"
            ],
            [
             0.8888888888888888,
             "#fdca26"
            ],
            [
             1,
             "#f0f921"
            ]
           ]
          },
          "colorway": [
           "#636efa",
           "#EF553B",
           "#00cc96",
           "#ab63fa",
           "#FFA15A",
           "#19d3f3",
           "#FF6692",
           "#B6E880",
           "#FF97FF",
           "#FECB52"
          ],
          "font": {
           "color": "#2a3f5f"
          },
          "geo": {
           "bgcolor": "white",
           "lakecolor": "white",
           "landcolor": "#E5ECF6",
           "showlakes": true,
           "showland": true,
           "subunitcolor": "white"
          },
          "hoverlabel": {
           "align": "left"
          },
          "hovermode": "closest",
          "mapbox": {
           "style": "light"
          },
          "paper_bgcolor": "white",
          "plot_bgcolor": "#E5ECF6",
          "polar": {
           "angularaxis": {
            "gridcolor": "white",
            "linecolor": "white",
            "ticks": ""
           },
           "bgcolor": "#E5ECF6",
           "radialaxis": {
            "gridcolor": "white",
            "linecolor": "white",
            "ticks": ""
           }
          },
          "scene": {
           "xaxis": {
            "backgroundcolor": "#E5ECF6",
            "gridcolor": "white",
            "gridwidth": 2,
            "linecolor": "white",
            "showbackground": true,
            "ticks": "",
            "zerolinecolor": "white"
           },
           "yaxis": {
            "backgroundcolor": "#E5ECF6",
            "gridcolor": "white",
            "gridwidth": 2,
            "linecolor": "white",
            "showbackground": true,
            "ticks": "",
            "zerolinecolor": "white"
           },
           "zaxis": {
            "backgroundcolor": "#E5ECF6",
            "gridcolor": "white",
            "gridwidth": 2,
            "linecolor": "white",
            "showbackground": true,
            "ticks": "",
            "zerolinecolor": "white"
           }
          },
          "shapedefaults": {
           "line": {
            "color": "#2a3f5f"
           }
          },
          "ternary": {
           "aaxis": {
            "gridcolor": "white",
            "linecolor": "white",
            "ticks": ""
           },
           "baxis": {
            "gridcolor": "white",
            "linecolor": "white",
            "ticks": ""
           },
           "bgcolor": "#E5ECF6",
           "caxis": {
            "gridcolor": "white",
            "linecolor": "white",
            "ticks": ""
           }
          },
          "title": {
           "x": 0.05
          },
          "xaxis": {
           "automargin": true,
           "gridcolor": "white",
           "linecolor": "white",
           "ticks": "",
           "title": {
            "standoff": 15
           },
           "zerolinecolor": "white",
           "zerolinewidth": 2
          },
          "yaxis": {
           "automargin": true,
           "gridcolor": "white",
           "linecolor": "white",
           "ticks": "",
           "title": {
            "standoff": 15
           },
           "zerolinecolor": "white",
           "zerolinewidth": 2
          }
         }
        }
       }
      },
      "text/html": [
       "<div>                            <div id=\"656e4a87-4e3e-432b-a36d-0510527da657\" class=\"plotly-graph-div\" style=\"height:525px; width:100%;\"></div>            <script type=\"text/javascript\">                require([\"plotly\"], function(Plotly) {                    window.PLOTLYENV=window.PLOTLYENV || {};                                    if (document.getElementById(\"656e4a87-4e3e-432b-a36d-0510527da657\")) {                    Plotly.newPlot(                        \"656e4a87-4e3e-432b-a36d-0510527da657\",                        [{\"hovertemplate\": \"x=%{x}<br>y=%{y}<br>z=%{z}<extra></extra>\", \"legendgroup\": \"\", \"marker\": {\"color\": \"#636efa\", \"symbol\": \"circle\"}, \"mode\": \"markers\", \"name\": \"\", \"scene\": \"scene\", \"showlegend\": false, \"type\": \"scatter3d\", \"x\": [3.8822216410935146, -0.14883198887024207, 0.6721904900331488, 1.04260275575436, -1.818954513167986, 1.4568960963189808, -0.5346661674014066, 4.185092188712969, 1.4505128619919105, 4.031172075744557, 3.476077664609412, -2.4055958048705817, 2.8069845500039845, 3.1227956996657946, -0.10477402806462122, -2.79824223228232, -0.5464887403036629, 1.6965391790953577, 3.6676084375114284, -2.101099529329196, -2.6099820255286126, 0.5644898429262128, 3.33264222632738, 2.82396105704783, -2.698931123623738, 2.4860710843622256, -2.606059709701162, 3.5861582664733564, -0.47575819126009433, 1.8365930998427613, 0.9976304935417546, -0.8981458079389446, 3.454159940699512, -2.7055577503155095, 0.19469782888187037, 2.7904916779809232, 0.6243682635326016, 3.4513409601710263, -0.01376698456256742, -0.18041595569357494, -1.9197489647033685, 2.9970910970831026, 3.0809457464087115, 1.7160548304130314, 1.1386792216263855, 2.1245219708627063, 1.8201864025449783, 4.113129459946347, 0.5306009641288258, -2.070132515943952, -2.516307829513531, 2.5218790714744825, 0.08942773939401505, 1.0053277854070135, 2.2272462508988564, 2.735930311160957, 1.1129077799088343, -0.4077203039833974, 3.5435506778730206, 1.4779350743952673, 2.9856383901662493, 3.1997597581927764, 0.14408619544010337, 3.6596986394030386, 3.198658383612459, 0.3673390674210468, 3.3343783440511583, 4.158540573256569, -2.6876293988734608, -2.6591235297768145, 2.4265075572261523, -2.7442967506219684, 0.8533962518910121, 3.4648492690854056, 3.605715350342636, 0.5236029129563096, 1.8533785357527846, -1.5176598905013843, 0.4636214775597032, 2.4941344909062764, -0.633182309373324, 3.6158685027647195, 2.018224395210053, 1.440807370125607, 0.3022797248415219, 3.026456398559942, 1.0691984748266363, 4.122041981858704, 0.7245652441714876, 2.5058808143387807, 3.261279457404168, 0.4072661238653472, 1.137819194957523, -2.5550981191687656, -0.1642023078134196, 1.9509262523646873, 1.852028272697928, -1.302416152906733, 3.3149503271397958, 2.035201075155463], \"y\": [-1.8101965591846882, -2.6048345754449773, 0.12996199533421215, 3.6939785154650346, -2.427965603559091, 3.592735396946064, -0.23525661830471556, -0.6241640154035442, 3.5647702148739855, 1.4427541083215925, 0.39783493413230664, -0.5481067845334637, 0.9437036751832886, 0.42171871575275865, -1.8050476030487141, -0.21748227761365424, 2.5998330976327866, 1.3580903054916087, 2.9097604726733586, -0.004050915715495762, 3.7818152584339924, 1.7999212057271947, 3.6726704275525996, -2.0797803993687336, -1.0689873825198353, 2.7890075132825736, 2.9066336008907188, -2.6417140300685125, 1.682232815537649, 1.7545912419725083, -1.1155875734006866, 1.1927522739581442, 2.17201442193213, 2.2345740144831128, 2.98375736799309, 2.859669566297387, 2.2347613666681694, 3.2766029667636394, 2.247068515790537, 1.4804480319771747, -1.1450752672130065, -2.2244581019123757, -0.46601442844159724, 4.012729882969803, -1.4813835206361343, -2.398787236669456, -0.871933479366064, -1.237304360573104, -1.7951937533560587, -2.2771647006418325, 2.116283881882244, 0.5441358187264935, 0.649332833681072, 1.3277602384779907, 1.887849077058588, -0.15409647797384318, -1.9887738410648226, -1.8572038847341623, 3.8237893527546216, -2.3279915652581185, -1.0417338695673983, 1.5389595804405145, 4.108395337874005, -1.2574157939393529, 0.832859513884534, -1.096371248284566, 1.313766513926777, -1.084068829117184, -1.0765472535480614, 3.4953404060875615, 0.6225446789151459, -1.0938638114526502, 3.263472961880269, 0.6877415550946107, 0.9862388286017421, 1.7839222496693399, -2.4511989168581896, -1.5716301244613609, 2.124311119576812, -0.6866838158073056, -0.08556924001130906, 0.021199810853469447, 2.4845747244987333, 3.049819923384381, 2.2936411035553537, -1.4973068058681123, 0.014486147457983378, 2.9460859378699915, -1.0628287690480493, -0.1777949906785663, -1.0931726722079573, 3.6988545639113015, -1.4316095941737372, -0.84375669675762, 2.6437670576271275, 2.1220504568661385, 0.9238643313842876, 3.42189494092806, 3.805319651363339, 4.078721409895111], \"z\": [19.617700897222452, 9.454024924421777, 2.3926396632650486, 18.298747967604676, 11.706614570871748, 20.66605817317079, 4.339996527262667, 20.428170845126694, 17.034752475063602, 22.839206680655327, 15.159896891325458, 8.666410640756673, 12.204921578074375, 12.939774312630478, 4.42204282916885, 7.394691711147534, 8.874327304284677, 7.776497301722314, 27.80848437639765, 6.984580672137963, 21.771292240615992, 6.969669748461682, 29.09463384167063, 14.95652717824912, 9.174868107839735, 16.242939905102315, 17.685654297719328, 22.041616547536147, 6.134515549522834, 10.677655923610088, 1.4071930912605524, 3.0589757205881085, 21.179473817011143, 14.296614060204293, 11.660197617436623, 16.890220313586866, 8.365290123438363, 28.21392570992971, 8.32277852720898, 4.427203530536765, 8.00978225227158, 14.399594077571285, 13.01950436149631, 22.812230374791355, 5.614736760105202, 10.950552317340259, 4.8662076812496675, 20.901153310390217, 3.4734650591798406, 11.138391938279273, 11.12715670947695, 8.204789014775853, 2.66233608952867, 7.152702581733311, 10.372156666502296, 9.174501546867038, 6.631609441335536, 6.2702833376169025, 33.49173720324617, 8.889415664829869, 13.121201701882116, 16.76267303990486, 18.531948802833295, 18.269287115897367, 15.349936501611197, 5.355707077737162, 17.045901307002378, 21.493416023607512, 11.130926774262692, 21.04918934180446, 10.465589963281843, 9.830994457382594, 13.320717451787678, 17.357174495570053, 17.325796006019882, 6.300361124924468, 11.387592483623026, 6.321319859472338, 6.0813135598936485, 7.984814435781604, 1.8618303115925312, 16.43840756866645, 13.746681681229916, 13.391137739302598, 7.19625725988725, 13.344402249935996, 3.4239212354396726, 30.034930882316587, 4.462986536505128, 8.652199012340043, 13.75931863881363, 17.312419953426573, 4.288944938388995, 8.645001739960174, 9.68291835331241, 12.265266817591352, 5.440721256267937, 16.821905027117108, 30.051832241486284, 24.636068374951186]}],                        {\"legend\": {\"tracegroupgap\": 0}, \"margin\": {\"t\": 60}, \"scene\": {\"domain\": {\"x\": [0.0, 1.0], \"y\": [0.0, 1.0]}, \"xaxis\": {\"title\": {\"text\": \"x\"}}, \"yaxis\": {\"title\": {\"text\": \"y\"}}, \"zaxis\": {\"title\": {\"text\": \"z\"}}}, \"template\": {\"data\": {\"bar\": [{\"error_x\": {\"color\": \"#2a3f5f\"}, \"error_y\": {\"color\": \"#2a3f5f\"}, \"marker\": {\"line\": {\"color\": \"#E5ECF6\", \"width\": 0.5}}, \"type\": \"bar\"}], \"barpolar\": [{\"marker\": {\"line\": {\"color\": \"#E5ECF6\", \"width\": 0.5}}, \"type\": \"barpolar\"}], \"carpet\": [{\"aaxis\": {\"endlinecolor\": \"#2a3f5f\", \"gridcolor\": \"white\", \"linecolor\": \"white\", \"minorgridcolor\": \"white\", \"startlinecolor\": \"#2a3f5f\"}, \"baxis\": {\"endlinecolor\": \"#2a3f5f\", \"gridcolor\": \"white\", \"linecolor\": \"white\", \"minorgridcolor\": \"white\", \"startlinecolor\": \"#2a3f5f\"}, \"type\": \"carpet\"}], \"choropleth\": [{\"colorbar\": {\"outlinewidth\": 0, \"ticks\": \"\"}, \"type\": \"choropleth\"}], \"contour\": [{\"colorbar\": {\"outlinewidth\": 0, \"ticks\": \"\"}, \"colorscale\": [[0.0, \"#0d0887\"], [0.1111111111111111, \"#46039f\"], [0.2222222222222222, \"#7201a8\"], [0.3333333333333333, \"#9c179e\"], [0.4444444444444444, \"#bd3786\"], [0.5555555555555556, \"#d8576b\"], [0.6666666666666666, \"#ed7953\"], [0.7777777777777778, \"#fb9f3a\"], [0.8888888888888888, \"#fdca26\"], [1.0, \"#f0f921\"]], \"type\": \"contour\"}], \"contourcarpet\": [{\"colorbar\": {\"outlinewidth\": 0, \"ticks\": \"\"}, \"type\": \"contourcarpet\"}], \"heatmap\": [{\"colorbar\": {\"outlinewidth\": 0, \"ticks\": \"\"}, \"colorscale\": [[0.0, \"#0d0887\"], [0.1111111111111111, \"#46039f\"], [0.2222222222222222, \"#7201a8\"], [0.3333333333333333, \"#9c179e\"], [0.4444444444444444, \"#bd3786\"], [0.5555555555555556, \"#d8576b\"], [0.6666666666666666, \"#ed7953\"], [0.7777777777777778, \"#fb9f3a\"], [0.8888888888888888, \"#fdca26\"], [1.0, \"#f0f921\"]], \"type\": \"heatmap\"}], \"heatmapgl\": [{\"colorbar\": {\"outlinewidth\": 0, \"ticks\": \"\"}, \"colorscale\": [[0.0, \"#0d0887\"], [0.1111111111111111, \"#46039f\"], [0.2222222222222222, \"#7201a8\"], [0.3333333333333333, \"#9c179e\"], [0.4444444444444444, \"#bd3786\"], [0.5555555555555556, \"#d8576b\"], [0.6666666666666666, \"#ed7953\"], [0.7777777777777778, \"#fb9f3a\"], [0.8888888888888888, \"#fdca26\"], [1.0, \"#f0f921\"]], \"type\": \"heatmapgl\"}], \"histogram\": [{\"marker\": {\"colorbar\": {\"outlinewidth\": 0, \"ticks\": \"\"}}, \"type\": \"histogram\"}], \"histogram2d\": [{\"colorbar\": {\"outlinewidth\": 0, \"ticks\": \"\"}, \"colorscale\": [[0.0, \"#0d0887\"], [0.1111111111111111, \"#46039f\"], [0.2222222222222222, \"#7201a8\"], [0.3333333333333333, \"#9c179e\"], [0.4444444444444444, \"#bd3786\"], [0.5555555555555556, \"#d8576b\"], [0.6666666666666666, \"#ed7953\"], [0.7777777777777778, \"#fb9f3a\"], [0.8888888888888888, \"#fdca26\"], [1.0, \"#f0f921\"]], \"type\": \"histogram2d\"}], \"histogram2dcontour\": [{\"colorbar\": {\"outlinewidth\": 0, \"ticks\": \"\"}, \"colorscale\": [[0.0, \"#0d0887\"], [0.1111111111111111, \"#46039f\"], [0.2222222222222222, \"#7201a8\"], [0.3333333333333333, \"#9c179e\"], [0.4444444444444444, \"#bd3786\"], [0.5555555555555556, \"#d8576b\"], [0.6666666666666666, \"#ed7953\"], [0.7777777777777778, \"#fb9f3a\"], [0.8888888888888888, \"#fdca26\"], [1.0, \"#f0f921\"]], \"type\": \"histogram2dcontour\"}], \"mesh3d\": [{\"colorbar\": {\"outlinewidth\": 0, \"ticks\": \"\"}, \"type\": \"mesh3d\"}], \"parcoords\": [{\"line\": {\"colorbar\": {\"outlinewidth\": 0, \"ticks\": \"\"}}, \"type\": \"parcoords\"}], \"pie\": [{\"automargin\": true, \"type\": \"pie\"}], \"scatter\": [{\"marker\": {\"colorbar\": {\"outlinewidth\": 0, \"ticks\": \"\"}}, \"type\": \"scatter\"}], \"scatter3d\": [{\"line\": {\"colorbar\": {\"outlinewidth\": 0, \"ticks\": \"\"}}, \"marker\": {\"colorbar\": {\"outlinewidth\": 0, \"ticks\": \"\"}}, \"type\": \"scatter3d\"}], \"scattercarpet\": [{\"marker\": {\"colorbar\": {\"outlinewidth\": 0, \"ticks\": \"\"}}, \"type\": \"scattercarpet\"}], \"scattergeo\": [{\"marker\": {\"colorbar\": {\"outlinewidth\": 0, \"ticks\": \"\"}}, \"type\": \"scattergeo\"}], \"scattergl\": [{\"marker\": {\"colorbar\": {\"outlinewidth\": 0, \"ticks\": \"\"}}, \"type\": \"scattergl\"}], \"scattermapbox\": [{\"marker\": {\"colorbar\": {\"outlinewidth\": 0, \"ticks\": \"\"}}, \"type\": \"scattermapbox\"}], \"scatterpolar\": [{\"marker\": {\"colorbar\": {\"outlinewidth\": 0, \"ticks\": \"\"}}, \"type\": \"scatterpolar\"}], \"scatterpolargl\": [{\"marker\": {\"colorbar\": {\"outlinewidth\": 0, \"ticks\": \"\"}}, \"type\": \"scatterpolargl\"}], \"scatterternary\": [{\"marker\": {\"colorbar\": {\"outlinewidth\": 0, \"ticks\": \"\"}}, \"type\": \"scatterternary\"}], \"surface\": [{\"colorbar\": {\"outlinewidth\": 0, \"ticks\": \"\"}, \"colorscale\": [[0.0, \"#0d0887\"], [0.1111111111111111, \"#46039f\"], [0.2222222222222222, \"#7201a8\"], [0.3333333333333333, \"#9c179e\"], [0.4444444444444444, \"#bd3786\"], [0.5555555555555556, \"#d8576b\"], [0.6666666666666666, \"#ed7953\"], [0.7777777777777778, \"#fb9f3a\"], [0.8888888888888888, \"#fdca26\"], [1.0, \"#f0f921\"]], \"type\": \"surface\"}], \"table\": [{\"cells\": {\"fill\": {\"color\": \"#EBF0F8\"}, \"line\": {\"color\": \"white\"}}, \"header\": {\"fill\": {\"color\": \"#C8D4E3\"}, \"line\": {\"color\": \"white\"}}, \"type\": \"table\"}]}, \"layout\": {\"annotationdefaults\": {\"arrowcolor\": \"#2a3f5f\", \"arrowhead\": 0, \"arrowwidth\": 1}, \"autotypenumbers\": \"strict\", \"coloraxis\": {\"colorbar\": {\"outlinewidth\": 0, \"ticks\": \"\"}}, \"colorscale\": {\"diverging\": [[0, \"#8e0152\"], [0.1, \"#c51b7d\"], [0.2, \"#de77ae\"], [0.3, \"#f1b6da\"], [0.4, \"#fde0ef\"], [0.5, \"#f7f7f7\"], [0.6, \"#e6f5d0\"], [0.7, \"#b8e186\"], [0.8, \"#7fbc41\"], [0.9, \"#4d9221\"], [1, \"#276419\"]], \"sequential\": [[0.0, \"#0d0887\"], [0.1111111111111111, \"#46039f\"], [0.2222222222222222, \"#7201a8\"], [0.3333333333333333, \"#9c179e\"], [0.4444444444444444, \"#bd3786\"], [0.5555555555555556, \"#d8576b\"], [0.6666666666666666, \"#ed7953\"], [0.7777777777777778, \"#fb9f3a\"], [0.8888888888888888, \"#fdca26\"], [1.0, \"#f0f921\"]], \"sequentialminus\": [[0.0, \"#0d0887\"], [0.1111111111111111, \"#46039f\"], [0.2222222222222222, \"#7201a8\"], [0.3333333333333333, \"#9c179e\"], [0.4444444444444444, \"#bd3786\"], [0.5555555555555556, \"#d8576b\"], [0.6666666666666666, \"#ed7953\"], [0.7777777777777778, \"#fb9f3a\"], [0.8888888888888888, \"#fdca26\"], [1.0, \"#f0f921\"]]}, \"colorway\": [\"#636efa\", \"#EF553B\", \"#00cc96\", \"#ab63fa\", \"#FFA15A\", \"#19d3f3\", \"#FF6692\", \"#B6E880\", \"#FF97FF\", \"#FECB52\"], \"font\": {\"color\": \"#2a3f5f\"}, \"geo\": {\"bgcolor\": \"white\", \"lakecolor\": \"white\", \"landcolor\": \"#E5ECF6\", \"showlakes\": true, \"showland\": true, \"subunitcolor\": \"white\"}, \"hoverlabel\": {\"align\": \"left\"}, \"hovermode\": \"closest\", \"mapbox\": {\"style\": \"light\"}, \"paper_bgcolor\": \"white\", \"plot_bgcolor\": \"#E5ECF6\", \"polar\": {\"angularaxis\": {\"gridcolor\": \"white\", \"linecolor\": \"white\", \"ticks\": \"\"}, \"bgcolor\": \"#E5ECF6\", \"radialaxis\": {\"gridcolor\": \"white\", \"linecolor\": \"white\", \"ticks\": \"\"}}, \"scene\": {\"xaxis\": {\"backgroundcolor\": \"#E5ECF6\", \"gridcolor\": \"white\", \"gridwidth\": 2, \"linecolor\": \"white\", \"showbackground\": true, \"ticks\": \"\", \"zerolinecolor\": \"white\"}, \"yaxis\": {\"backgroundcolor\": \"#E5ECF6\", \"gridcolor\": \"white\", \"gridwidth\": 2, \"linecolor\": \"white\", \"showbackground\": true, \"ticks\": \"\", \"zerolinecolor\": \"white\"}, \"zaxis\": {\"backgroundcolor\": \"#E5ECF6\", \"gridcolor\": \"white\", \"gridwidth\": 2, \"linecolor\": \"white\", \"showbackground\": true, \"ticks\": \"\", \"zerolinecolor\": \"white\"}}, \"shapedefaults\": {\"line\": {\"color\": \"#2a3f5f\"}}, \"ternary\": {\"aaxis\": {\"gridcolor\": \"white\", \"linecolor\": \"white\", \"ticks\": \"\"}, \"baxis\": {\"gridcolor\": \"white\", \"linecolor\": \"white\", \"ticks\": \"\"}, \"bgcolor\": \"#E5ECF6\", \"caxis\": {\"gridcolor\": \"white\", \"linecolor\": \"white\", \"ticks\": \"\"}}, \"title\": {\"x\": 0.05}, \"xaxis\": {\"automargin\": true, \"gridcolor\": \"white\", \"linecolor\": \"white\", \"ticks\": \"\", \"title\": {\"standoff\": 15}, \"zerolinecolor\": \"white\", \"zerolinewidth\": 2}, \"yaxis\": {\"automargin\": true, \"gridcolor\": \"white\", \"linecolor\": \"white\", \"ticks\": \"\", \"title\": {\"standoff\": 15}, \"zerolinecolor\": \"white\", \"zerolinewidth\": 2}}}},                        {\"responsive\": true}                    ).then(function(){\n",
       "                            \n",
       "var gd = document.getElementById('656e4a87-4e3e-432b-a36d-0510527da657');\n",
       "var x = new MutationObserver(function (mutations, observer) {{\n",
       "        var display = window.getComputedStyle(gd).display;\n",
       "        if (!display || display === 'none') {{\n",
       "            console.log([gd, 'removed!']);\n",
       "            Plotly.purge(gd);\n",
       "            observer.disconnect();\n",
       "        }}\n",
       "}});\n",
       "\n",
       "// Listen for the removal of the full notebook cells\n",
       "var notebookContainer = gd.closest('#notebook-container');\n",
       "if (notebookContainer) {{\n",
       "    x.observe(notebookContainer, {childList: true});\n",
       "}}\n",
       "\n",
       "// Listen for the clearing of the current output cell\n",
       "var outputEl = gd.closest('.output');\n",
       "if (outputEl) {{\n",
       "    x.observe(outputEl, {childList: true});\n",
       "}}\n",
       "\n",
       "                        })                };                });            </script>        </div>"
      ]
     },
     "metadata": {},
     "output_type": "display_data"
    }
   ],
   "source": [
    "import plotly.express as px\n",
    "df = px.data.iris()\n",
    "fig = px.scatter_3d(df, x=x.ravel(), y=y.ravel(), z=z.ravel())\n",
    "fig.show()"
   ]
  },
  {
   "cell_type": "code",
   "execution_count": 28,
   "id": "30f6256e",
   "metadata": {},
   "outputs": [],
   "source": [
    "lr = LinearRegression()\n",
    "lr.fit(np.array([x,y]).reshape(100,2),z)\n",
    "\n",
    "x_input = np.linspace(x.min(), x.max(), 10)\n",
    "y_input = np.linspace(y.min(), y.max(), 10)\n",
    "xGrid, yGrid = np.meshgrid(x_input,y_input)\n",
    "\n",
    "final = np.vstack((xGrid.ravel().reshape(1,100),yGrid.ravel().reshape(1,100))).T\n",
    "\n",
    "z_final = lr.predict(final).reshape(10,10)\n",
    "\n"
   ]
  },
  {
   "cell_type": "code",
   "execution_count": 29,
   "id": "59f98047",
   "metadata": {},
   "outputs": [
    {
     "data": {
      "application/vnd.plotly.v1+json": {
       "config": {
        "plotlyServerURL": "https://plot.ly"
       },
       "data": [
        {
         "hovertemplate": "x=%{x}<br>y=%{y}<br>z=%{z}<extra></extra>",
         "legendgroup": "",
         "marker": {
          "color": "#636efa",
          "symbol": "circle"
         },
         "mode": "markers",
         "name": "",
         "scene": "scene",
         "showlegend": false,
         "type": "scatter3d",
         "x": [
          3.8822216410935146,
          -0.14883198887024207,
          0.6721904900331488,
          1.04260275575436,
          -1.818954513167986,
          1.4568960963189808,
          -0.5346661674014066,
          4.185092188712969,
          1.4505128619919105,
          4.031172075744557,
          3.476077664609412,
          -2.4055958048705817,
          2.8069845500039845,
          3.1227956996657946,
          -0.10477402806462122,
          -2.79824223228232,
          -0.5464887403036629,
          1.6965391790953577,
          3.6676084375114284,
          -2.101099529329196,
          -2.6099820255286126,
          0.5644898429262128,
          3.33264222632738,
          2.82396105704783,
          -2.698931123623738,
          2.4860710843622256,
          -2.606059709701162,
          3.5861582664733564,
          -0.47575819126009433,
          1.8365930998427613,
          0.9976304935417546,
          -0.8981458079389446,
          3.454159940699512,
          -2.7055577503155095,
          0.19469782888187037,
          2.7904916779809232,
          0.6243682635326016,
          3.4513409601710263,
          -0.01376698456256742,
          -0.18041595569357494,
          -1.9197489647033685,
          2.9970910970831026,
          3.0809457464087115,
          1.7160548304130314,
          1.1386792216263855,
          2.1245219708627063,
          1.8201864025449783,
          4.113129459946347,
          0.5306009641288258,
          -2.070132515943952,
          -2.516307829513531,
          2.5218790714744825,
          0.08942773939401505,
          1.0053277854070135,
          2.2272462508988564,
          2.735930311160957,
          1.1129077799088343,
          -0.4077203039833974,
          3.5435506778730206,
          1.4779350743952673,
          2.9856383901662493,
          3.1997597581927764,
          0.14408619544010337,
          3.6596986394030386,
          3.198658383612459,
          0.3673390674210468,
          3.3343783440511583,
          4.158540573256569,
          -2.6876293988734608,
          -2.6591235297768145,
          2.4265075572261523,
          -2.7442967506219684,
          0.8533962518910121,
          3.4648492690854056,
          3.605715350342636,
          0.5236029129563096,
          1.8533785357527846,
          -1.5176598905013843,
          0.4636214775597032,
          2.4941344909062764,
          -0.633182309373324,
          3.6158685027647195,
          2.018224395210053,
          1.440807370125607,
          0.3022797248415219,
          3.026456398559942,
          1.0691984748266363,
          4.122041981858704,
          0.7245652441714876,
          2.5058808143387807,
          3.261279457404168,
          0.4072661238653472,
          1.137819194957523,
          -2.5550981191687656,
          -0.1642023078134196,
          1.9509262523646873,
          1.852028272697928,
          -1.302416152906733,
          3.3149503271397958,
          2.035201075155463
         ],
         "y": [
          -1.8101965591846882,
          -2.6048345754449773,
          0.12996199533421215,
          3.6939785154650346,
          -2.427965603559091,
          3.592735396946064,
          -0.23525661830471556,
          -0.6241640154035442,
          3.5647702148739855,
          1.4427541083215925,
          0.39783493413230664,
          -0.5481067845334637,
          0.9437036751832886,
          0.42171871575275865,
          -1.8050476030487141,
          -0.21748227761365424,
          2.5998330976327866,
          1.3580903054916087,
          2.9097604726733586,
          -0.004050915715495762,
          3.7818152584339924,
          1.7999212057271947,
          3.6726704275525996,
          -2.0797803993687336,
          -1.0689873825198353,
          2.7890075132825736,
          2.9066336008907188,
          -2.6417140300685125,
          1.682232815537649,
          1.7545912419725083,
          -1.1155875734006866,
          1.1927522739581442,
          2.17201442193213,
          2.2345740144831128,
          2.98375736799309,
          2.859669566297387,
          2.2347613666681694,
          3.2766029667636394,
          2.247068515790537,
          1.4804480319771747,
          -1.1450752672130065,
          -2.2244581019123757,
          -0.46601442844159724,
          4.012729882969803,
          -1.4813835206361343,
          -2.398787236669456,
          -0.871933479366064,
          -1.237304360573104,
          -1.7951937533560587,
          -2.2771647006418325,
          2.116283881882244,
          0.5441358187264935,
          0.649332833681072,
          1.3277602384779907,
          1.887849077058588,
          -0.15409647797384318,
          -1.9887738410648226,
          -1.8572038847341623,
          3.8237893527546216,
          -2.3279915652581185,
          -1.0417338695673983,
          1.5389595804405145,
          4.108395337874005,
          -1.2574157939393529,
          0.832859513884534,
          -1.096371248284566,
          1.313766513926777,
          -1.084068829117184,
          -1.0765472535480614,
          3.4953404060875615,
          0.6225446789151459,
          -1.0938638114526502,
          3.263472961880269,
          0.6877415550946107,
          0.9862388286017421,
          1.7839222496693399,
          -2.4511989168581896,
          -1.5716301244613609,
          2.124311119576812,
          -0.6866838158073056,
          -0.08556924001130906,
          0.021199810853469447,
          2.4845747244987333,
          3.049819923384381,
          2.2936411035553537,
          -1.4973068058681123,
          0.014486147457983378,
          2.9460859378699915,
          -1.0628287690480493,
          -0.1777949906785663,
          -1.0931726722079573,
          3.6988545639113015,
          -1.4316095941737372,
          -0.84375669675762,
          2.6437670576271275,
          2.1220504568661385,
          0.9238643313842876,
          3.42189494092806,
          3.805319651363339,
          4.078721409895111
         ],
         "z": [
          19.617700897222452,
          9.454024924421777,
          2.3926396632650486,
          18.298747967604676,
          11.706614570871748,
          20.66605817317079,
          4.339996527262667,
          20.428170845126694,
          17.034752475063602,
          22.839206680655327,
          15.159896891325458,
          8.666410640756673,
          12.204921578074375,
          12.939774312630478,
          4.42204282916885,
          7.394691711147534,
          8.874327304284677,
          7.776497301722314,
          27.80848437639765,
          6.984580672137963,
          21.771292240615992,
          6.969669748461682,
          29.09463384167063,
          14.95652717824912,
          9.174868107839735,
          16.242939905102315,
          17.685654297719328,
          22.041616547536147,
          6.134515549522834,
          10.677655923610088,
          1.4071930912605524,
          3.0589757205881085,
          21.179473817011143,
          14.296614060204293,
          11.660197617436623,
          16.890220313586866,
          8.365290123438363,
          28.21392570992971,
          8.32277852720898,
          4.427203530536765,
          8.00978225227158,
          14.399594077571285,
          13.01950436149631,
          22.812230374791355,
          5.614736760105202,
          10.950552317340259,
          4.8662076812496675,
          20.901153310390217,
          3.4734650591798406,
          11.138391938279273,
          11.12715670947695,
          8.204789014775853,
          2.66233608952867,
          7.152702581733311,
          10.372156666502296,
          9.174501546867038,
          6.631609441335536,
          6.2702833376169025,
          33.49173720324617,
          8.889415664829869,
          13.121201701882116,
          16.76267303990486,
          18.531948802833295,
          18.269287115897367,
          15.349936501611197,
          5.355707077737162,
          17.045901307002378,
          21.493416023607512,
          11.130926774262692,
          21.04918934180446,
          10.465589963281843,
          9.830994457382594,
          13.320717451787678,
          17.357174495570053,
          17.325796006019882,
          6.300361124924468,
          11.387592483623026,
          6.321319859472338,
          6.0813135598936485,
          7.984814435781604,
          1.8618303115925312,
          16.43840756866645,
          13.746681681229916,
          13.391137739302598,
          7.19625725988725,
          13.344402249935996,
          3.4239212354396726,
          30.034930882316587,
          4.462986536505128,
          8.652199012340043,
          13.75931863881363,
          17.312419953426573,
          4.288944938388995,
          8.645001739960174,
          9.68291835331241,
          12.265266817591352,
          5.440721256267937,
          16.821905027117108,
          30.051832241486284,
          24.636068374951186
         ]
        },
        {
         "type": "surface",
         "x": [
          -2.79824223228232,
          -2.0223161855050655,
          -1.2463901387278113,
          -0.4704640919505567,
          0.30546195482669747,
          1.0813880016039517,
          1.8573140483812067,
          2.633240095158461,
          3.409166141935715,
          4.185092188712969
         ],
         "y": [
          -2.6417140300685125,
          -1.8917018780748993,
          -1.1416897260812864,
          -0.39167757408767345,
          0.3583345779059397,
          1.1083467298995529,
          1.8583588818931656,
          2.6083710338867787,
          3.358383185880392,
          4.108395337874005
         ],
         "z": [
          [
           8.460334485354863,
           9.068136930893994,
           9.675939376433124,
           10.283741821972255,
           10.891544267511383,
           11.499346713050514,
           12.107149158589644,
           12.714951604128773,
           13.322754049667903,
           13.930556495207032
          ],
          [
           8.737762667520105,
           9.345565113059235,
           9.953367558598366,
           10.561170004137496,
           11.168972449676625,
           11.776774895215755,
           12.384577340754886,
           12.992379786294014,
           13.600182231833145,
           14.207984677372274
          ],
          [
           9.015190849685348,
           9.622993295224479,
           10.230795740763607,
           10.838598186302738,
           11.446400631841867,
           12.054203077380997,
           12.662005522920127,
           13.269807968459256,
           13.877610413998386,
           14.485412859537515
          ],
          [
           9.29261903185059,
           9.90042147738972,
           10.508223922928849,
           11.11602636846798,
           11.723828814007108,
           12.331631259546239,
           12.939433705085369,
           13.5472361506245,
           14.155038596163628,
           14.762841041702757
          ],
          [
           9.570047214015831,
           10.177849659554962,
           10.78565210509409,
           11.393454550633221,
           12.001256996172351,
           12.60905944171148,
           13.21686188725061,
           13.824664332789741,
           14.43246677832887,
           15.040269223868
          ],
          [
           9.847475396181073,
           10.455277841720203,
           11.063080287259332,
           11.670882732798463,
           12.278685178337593,
           12.886487623876722,
           13.494290069415852,
           14.102092514954983,
           14.709894960494111,
           15.317697406033242
          ],
          [
           10.124903578346315,
           10.732706023885445,
           11.340508469424574,
           11.948310914963704,
           12.556113360502835,
           13.163915806041963,
           13.771718251581094,
           14.379520697120224,
           14.987323142659353,
           15.595125588198483
          ],
          [
           10.402331760511556,
           11.010134206050687,
           11.617936651589817,
           12.225739097128946,
           12.833541542668076,
           13.441343988207205,
           14.049146433746335,
           14.656948879285466,
           15.264751324824594,
           15.872553770363725
          ],
          [
           10.679759942676798,
           11.287562388215928,
           11.895364833755059,
           12.503167279294189,
           13.110969724833318,
           13.718772170372448,
           14.326574615911579,
           14.934377061450707,
           15.542179506989838,
           16.149981952528968
          ],
          [
           10.957188124842041,
           11.56499057038117,
           12.1727930159203,
           12.78059546145943,
           13.38839790699856,
           13.99620035253769,
           14.60400279807682,
           15.211805243615949,
           15.81960768915508,
           16.42741013469421
          ]
         ]
        }
       ],
       "layout": {
        "legend": {
         "tracegroupgap": 0
        },
        "margin": {
         "t": 60
        },
        "scene": {
         "domain": {
          "x": [
           0,
           1
          ],
          "y": [
           0,
           1
          ]
         },
         "xaxis": {
          "title": {
           "text": "x"
          }
         },
         "yaxis": {
          "title": {
           "text": "y"
          }
         },
         "zaxis": {
          "title": {
           "text": "z"
          }
         }
        },
        "template": {
         "data": {
          "bar": [
           {
            "error_x": {
             "color": "#2a3f5f"
            },
            "error_y": {
             "color": "#2a3f5f"
            },
            "marker": {
             "line": {
              "color": "#E5ECF6",
              "width": 0.5
             }
            },
            "type": "bar"
           }
          ],
          "barpolar": [
           {
            "marker": {
             "line": {
              "color": "#E5ECF6",
              "width": 0.5
             }
            },
            "type": "barpolar"
           }
          ],
          "carpet": [
           {
            "aaxis": {
             "endlinecolor": "#2a3f5f",
             "gridcolor": "white",
             "linecolor": "white",
             "minorgridcolor": "white",
             "startlinecolor": "#2a3f5f"
            },
            "baxis": {
             "endlinecolor": "#2a3f5f",
             "gridcolor": "white",
             "linecolor": "white",
             "minorgridcolor": "white",
             "startlinecolor": "#2a3f5f"
            },
            "type": "carpet"
           }
          ],
          "choropleth": [
           {
            "colorbar": {
             "outlinewidth": 0,
             "ticks": ""
            },
            "type": "choropleth"
           }
          ],
          "contour": [
           {
            "colorbar": {
             "outlinewidth": 0,
             "ticks": ""
            },
            "colorscale": [
             [
              0,
              "#0d0887"
             ],
             [
              0.1111111111111111,
              "#46039f"
             ],
             [
              0.2222222222222222,
              "#7201a8"
             ],
             [
              0.3333333333333333,
              "#9c179e"
             ],
             [
              0.4444444444444444,
              "#bd3786"
             ],
             [
              0.5555555555555556,
              "#d8576b"
             ],
             [
              0.6666666666666666,
              "#ed7953"
             ],
             [
              0.7777777777777778,
              "#fb9f3a"
             ],
             [
              0.8888888888888888,
              "#fdca26"
             ],
             [
              1,
              "#f0f921"
             ]
            ],
            "type": "contour"
           }
          ],
          "contourcarpet": [
           {
            "colorbar": {
             "outlinewidth": 0,
             "ticks": ""
            },
            "type": "contourcarpet"
           }
          ],
          "heatmap": [
           {
            "colorbar": {
             "outlinewidth": 0,
             "ticks": ""
            },
            "colorscale": [
             [
              0,
              "#0d0887"
             ],
             [
              0.1111111111111111,
              "#46039f"
             ],
             [
              0.2222222222222222,
              "#7201a8"
             ],
             [
              0.3333333333333333,
              "#9c179e"
             ],
             [
              0.4444444444444444,
              "#bd3786"
             ],
             [
              0.5555555555555556,
              "#d8576b"
             ],
             [
              0.6666666666666666,
              "#ed7953"
             ],
             [
              0.7777777777777778,
              "#fb9f3a"
             ],
             [
              0.8888888888888888,
              "#fdca26"
             ],
             [
              1,
              "#f0f921"
             ]
            ],
            "type": "heatmap"
           }
          ],
          "heatmapgl": [
           {
            "colorbar": {
             "outlinewidth": 0,
             "ticks": ""
            },
            "colorscale": [
             [
              0,
              "#0d0887"
             ],
             [
              0.1111111111111111,
              "#46039f"
             ],
             [
              0.2222222222222222,
              "#7201a8"
             ],
             [
              0.3333333333333333,
              "#9c179e"
             ],
             [
              0.4444444444444444,
              "#bd3786"
             ],
             [
              0.5555555555555556,
              "#d8576b"
             ],
             [
              0.6666666666666666,
              "#ed7953"
             ],
             [
              0.7777777777777778,
              "#fb9f3a"
             ],
             [
              0.8888888888888888,
              "#fdca26"
             ],
             [
              1,
              "#f0f921"
             ]
            ],
            "type": "heatmapgl"
           }
          ],
          "histogram": [
           {
            "marker": {
             "colorbar": {
              "outlinewidth": 0,
              "ticks": ""
             }
            },
            "type": "histogram"
           }
          ],
          "histogram2d": [
           {
            "colorbar": {
             "outlinewidth": 0,
             "ticks": ""
            },
            "colorscale": [
             [
              0,
              "#0d0887"
             ],
             [
              0.1111111111111111,
              "#46039f"
             ],
             [
              0.2222222222222222,
              "#7201a8"
             ],
             [
              0.3333333333333333,
              "#9c179e"
             ],
             [
              0.4444444444444444,
              "#bd3786"
             ],
             [
              0.5555555555555556,
              "#d8576b"
             ],
             [
              0.6666666666666666,
              "#ed7953"
             ],
             [
              0.7777777777777778,
              "#fb9f3a"
             ],
             [
              0.8888888888888888,
              "#fdca26"
             ],
             [
              1,
              "#f0f921"
             ]
            ],
            "type": "histogram2d"
           }
          ],
          "histogram2dcontour": [
           {
            "colorbar": {
             "outlinewidth": 0,
             "ticks": ""
            },
            "colorscale": [
             [
              0,
              "#0d0887"
             ],
             [
              0.1111111111111111,
              "#46039f"
             ],
             [
              0.2222222222222222,
              "#7201a8"
             ],
             [
              0.3333333333333333,
              "#9c179e"
             ],
             [
              0.4444444444444444,
              "#bd3786"
             ],
             [
              0.5555555555555556,
              "#d8576b"
             ],
             [
              0.6666666666666666,
              "#ed7953"
             ],
             [
              0.7777777777777778,
              "#fb9f3a"
             ],
             [
              0.8888888888888888,
              "#fdca26"
             ],
             [
              1,
              "#f0f921"
             ]
            ],
            "type": "histogram2dcontour"
           }
          ],
          "mesh3d": [
           {
            "colorbar": {
             "outlinewidth": 0,
             "ticks": ""
            },
            "type": "mesh3d"
           }
          ],
          "parcoords": [
           {
            "line": {
             "colorbar": {
              "outlinewidth": 0,
              "ticks": ""
             }
            },
            "type": "parcoords"
           }
          ],
          "pie": [
           {
            "automargin": true,
            "type": "pie"
           }
          ],
          "scatter": [
           {
            "marker": {
             "colorbar": {
              "outlinewidth": 0,
              "ticks": ""
             }
            },
            "type": "scatter"
           }
          ],
          "scatter3d": [
           {
            "line": {
             "colorbar": {
              "outlinewidth": 0,
              "ticks": ""
             }
            },
            "marker": {
             "colorbar": {
              "outlinewidth": 0,
              "ticks": ""
             }
            },
            "type": "scatter3d"
           }
          ],
          "scattercarpet": [
           {
            "marker": {
             "colorbar": {
              "outlinewidth": 0,
              "ticks": ""
             }
            },
            "type": "scattercarpet"
           }
          ],
          "scattergeo": [
           {
            "marker": {
             "colorbar": {
              "outlinewidth": 0,
              "ticks": ""
             }
            },
            "type": "scattergeo"
           }
          ],
          "scattergl": [
           {
            "marker": {
             "colorbar": {
              "outlinewidth": 0,
              "ticks": ""
             }
            },
            "type": "scattergl"
           }
          ],
          "scattermapbox": [
           {
            "marker": {
             "colorbar": {
              "outlinewidth": 0,
              "ticks": ""
             }
            },
            "type": "scattermapbox"
           }
          ],
          "scatterpolar": [
           {
            "marker": {
             "colorbar": {
              "outlinewidth": 0,
              "ticks": ""
             }
            },
            "type": "scatterpolar"
           }
          ],
          "scatterpolargl": [
           {
            "marker": {
             "colorbar": {
              "outlinewidth": 0,
              "ticks": ""
             }
            },
            "type": "scatterpolargl"
           }
          ],
          "scatterternary": [
           {
            "marker": {
             "colorbar": {
              "outlinewidth": 0,
              "ticks": ""
             }
            },
            "type": "scatterternary"
           }
          ],
          "surface": [
           {
            "colorbar": {
             "outlinewidth": 0,
             "ticks": ""
            },
            "colorscale": [
             [
              0,
              "#0d0887"
             ],
             [
              0.1111111111111111,
              "#46039f"
             ],
             [
              0.2222222222222222,
              "#7201a8"
             ],
             [
              0.3333333333333333,
              "#9c179e"
             ],
             [
              0.4444444444444444,
              "#bd3786"
             ],
             [
              0.5555555555555556,
              "#d8576b"
             ],
             [
              0.6666666666666666,
              "#ed7953"
             ],
             [
              0.7777777777777778,
              "#fb9f3a"
             ],
             [
              0.8888888888888888,
              "#fdca26"
             ],
             [
              1,
              "#f0f921"
             ]
            ],
            "type": "surface"
           }
          ],
          "table": [
           {
            "cells": {
             "fill": {
              "color": "#EBF0F8"
             },
             "line": {
              "color": "white"
             }
            },
            "header": {
             "fill": {
              "color": "#C8D4E3"
             },
             "line": {
              "color": "white"
             }
            },
            "type": "table"
           }
          ]
         },
         "layout": {
          "annotationdefaults": {
           "arrowcolor": "#2a3f5f",
           "arrowhead": 0,
           "arrowwidth": 1
          },
          "autotypenumbers": "strict",
          "coloraxis": {
           "colorbar": {
            "outlinewidth": 0,
            "ticks": ""
           }
          },
          "colorscale": {
           "diverging": [
            [
             0,
             "#8e0152"
            ],
            [
             0.1,
             "#c51b7d"
            ],
            [
             0.2,
             "#de77ae"
            ],
            [
             0.3,
             "#f1b6da"
            ],
            [
             0.4,
             "#fde0ef"
            ],
            [
             0.5,
             "#f7f7f7"
            ],
            [
             0.6,
             "#e6f5d0"
            ],
            [
             0.7,
             "#b8e186"
            ],
            [
             0.8,
             "#7fbc41"
            ],
            [
             0.9,
             "#4d9221"
            ],
            [
             1,
             "#276419"
            ]
           ],
           "sequential": [
            [
             0,
             "#0d0887"
            ],
            [
             0.1111111111111111,
             "#46039f"
            ],
            [
             0.2222222222222222,
             "#7201a8"
            ],
            [
             0.3333333333333333,
             "#9c179e"
            ],
            [
             0.4444444444444444,
             "#bd3786"
            ],
            [
             0.5555555555555556,
             "#d8576b"
            ],
            [
             0.6666666666666666,
             "#ed7953"
            ],
            [
             0.7777777777777778,
             "#fb9f3a"
            ],
            [
             0.8888888888888888,
             "#fdca26"
            ],
            [
             1,
             "#f0f921"
            ]
           ],
           "sequentialminus": [
            [
             0,
             "#0d0887"
            ],
            [
             0.1111111111111111,
             "#46039f"
            ],
            [
             0.2222222222222222,
             "#7201a8"
            ],
            [
             0.3333333333333333,
             "#9c179e"
            ],
            [
             0.4444444444444444,
             "#bd3786"
            ],
            [
             0.5555555555555556,
             "#d8576b"
            ],
            [
             0.6666666666666666,
             "#ed7953"
            ],
            [
             0.7777777777777778,
             "#fb9f3a"
            ],
            [
             0.8888888888888888,
             "#fdca26"
            ],
            [
             1,
             "#f0f921"
            ]
           ]
          },
          "colorway": [
           "#636efa",
           "#EF553B",
           "#00cc96",
           "#ab63fa",
           "#FFA15A",
           "#19d3f3",
           "#FF6692",
           "#B6E880",
           "#FF97FF",
           "#FECB52"
          ],
          "font": {
           "color": "#2a3f5f"
          },
          "geo": {
           "bgcolor": "white",
           "lakecolor": "white",
           "landcolor": "#E5ECF6",
           "showlakes": true,
           "showland": true,
           "subunitcolor": "white"
          },
          "hoverlabel": {
           "align": "left"
          },
          "hovermode": "closest",
          "mapbox": {
           "style": "light"
          },
          "paper_bgcolor": "white",
          "plot_bgcolor": "#E5ECF6",
          "polar": {
           "angularaxis": {
            "gridcolor": "white",
            "linecolor": "white",
            "ticks": ""
           },
           "bgcolor": "#E5ECF6",
           "radialaxis": {
            "gridcolor": "white",
            "linecolor": "white",
            "ticks": ""
           }
          },
          "scene": {
           "xaxis": {
            "backgroundcolor": "#E5ECF6",
            "gridcolor": "white",
            "gridwidth": 2,
            "linecolor": "white",
            "showbackground": true,
            "ticks": "",
            "zerolinecolor": "white"
           },
           "yaxis": {
            "backgroundcolor": "#E5ECF6",
            "gridcolor": "white",
            "gridwidth": 2,
            "linecolor": "white",
            "showbackground": true,
            "ticks": "",
            "zerolinecolor": "white"
           },
           "zaxis": {
            "backgroundcolor": "#E5ECF6",
            "gridcolor": "white",
            "gridwidth": 2,
            "linecolor": "white",
            "showbackground": true,
            "ticks": "",
            "zerolinecolor": "white"
           }
          },
          "shapedefaults": {
           "line": {
            "color": "#2a3f5f"
           }
          },
          "ternary": {
           "aaxis": {
            "gridcolor": "white",
            "linecolor": "white",
            "ticks": ""
           },
           "baxis": {
            "gridcolor": "white",
            "linecolor": "white",
            "ticks": ""
           },
           "bgcolor": "#E5ECF6",
           "caxis": {
            "gridcolor": "white",
            "linecolor": "white",
            "ticks": ""
           }
          },
          "title": {
           "x": 0.05
          },
          "xaxis": {
           "automargin": true,
           "gridcolor": "white",
           "linecolor": "white",
           "ticks": "",
           "title": {
            "standoff": 15
           },
           "zerolinecolor": "white",
           "zerolinewidth": 2
          },
          "yaxis": {
           "automargin": true,
           "gridcolor": "white",
           "linecolor": "white",
           "ticks": "",
           "title": {
            "standoff": 15
           },
           "zerolinecolor": "white",
           "zerolinewidth": 2
          }
         }
        }
       }
      },
      "text/html": [
       "<div>                            <div id=\"cf0ddb4f-b70f-45f6-b3d6-f4228a53c4b8\" class=\"plotly-graph-div\" style=\"height:525px; width:100%;\"></div>            <script type=\"text/javascript\">                require([\"plotly\"], function(Plotly) {                    window.PLOTLYENV=window.PLOTLYENV || {};                                    if (document.getElementById(\"cf0ddb4f-b70f-45f6-b3d6-f4228a53c4b8\")) {                    Plotly.newPlot(                        \"cf0ddb4f-b70f-45f6-b3d6-f4228a53c4b8\",                        [{\"hovertemplate\": \"x=%{x}<br>y=%{y}<br>z=%{z}<extra></extra>\", \"legendgroup\": \"\", \"marker\": {\"color\": \"#636efa\", \"symbol\": \"circle\"}, \"mode\": \"markers\", \"name\": \"\", \"scene\": \"scene\", \"showlegend\": false, \"type\": \"scatter3d\", \"x\": [3.8822216410935146, -0.14883198887024207, 0.6721904900331488, 1.04260275575436, -1.818954513167986, 1.4568960963189808, -0.5346661674014066, 4.185092188712969, 1.4505128619919105, 4.031172075744557, 3.476077664609412, -2.4055958048705817, 2.8069845500039845, 3.1227956996657946, -0.10477402806462122, -2.79824223228232, -0.5464887403036629, 1.6965391790953577, 3.6676084375114284, -2.101099529329196, -2.6099820255286126, 0.5644898429262128, 3.33264222632738, 2.82396105704783, -2.698931123623738, 2.4860710843622256, -2.606059709701162, 3.5861582664733564, -0.47575819126009433, 1.8365930998427613, 0.9976304935417546, -0.8981458079389446, 3.454159940699512, -2.7055577503155095, 0.19469782888187037, 2.7904916779809232, 0.6243682635326016, 3.4513409601710263, -0.01376698456256742, -0.18041595569357494, -1.9197489647033685, 2.9970910970831026, 3.0809457464087115, 1.7160548304130314, 1.1386792216263855, 2.1245219708627063, 1.8201864025449783, 4.113129459946347, 0.5306009641288258, -2.070132515943952, -2.516307829513531, 2.5218790714744825, 0.08942773939401505, 1.0053277854070135, 2.2272462508988564, 2.735930311160957, 1.1129077799088343, -0.4077203039833974, 3.5435506778730206, 1.4779350743952673, 2.9856383901662493, 3.1997597581927764, 0.14408619544010337, 3.6596986394030386, 3.198658383612459, 0.3673390674210468, 3.3343783440511583, 4.158540573256569, -2.6876293988734608, -2.6591235297768145, 2.4265075572261523, -2.7442967506219684, 0.8533962518910121, 3.4648492690854056, 3.605715350342636, 0.5236029129563096, 1.8533785357527846, -1.5176598905013843, 0.4636214775597032, 2.4941344909062764, -0.633182309373324, 3.6158685027647195, 2.018224395210053, 1.440807370125607, 0.3022797248415219, 3.026456398559942, 1.0691984748266363, 4.122041981858704, 0.7245652441714876, 2.5058808143387807, 3.261279457404168, 0.4072661238653472, 1.137819194957523, -2.5550981191687656, -0.1642023078134196, 1.9509262523646873, 1.852028272697928, -1.302416152906733, 3.3149503271397958, 2.035201075155463], \"y\": [-1.8101965591846882, -2.6048345754449773, 0.12996199533421215, 3.6939785154650346, -2.427965603559091, 3.592735396946064, -0.23525661830471556, -0.6241640154035442, 3.5647702148739855, 1.4427541083215925, 0.39783493413230664, -0.5481067845334637, 0.9437036751832886, 0.42171871575275865, -1.8050476030487141, -0.21748227761365424, 2.5998330976327866, 1.3580903054916087, 2.9097604726733586, -0.004050915715495762, 3.7818152584339924, 1.7999212057271947, 3.6726704275525996, -2.0797803993687336, -1.0689873825198353, 2.7890075132825736, 2.9066336008907188, -2.6417140300685125, 1.682232815537649, 1.7545912419725083, -1.1155875734006866, 1.1927522739581442, 2.17201442193213, 2.2345740144831128, 2.98375736799309, 2.859669566297387, 2.2347613666681694, 3.2766029667636394, 2.247068515790537, 1.4804480319771747, -1.1450752672130065, -2.2244581019123757, -0.46601442844159724, 4.012729882969803, -1.4813835206361343, -2.398787236669456, -0.871933479366064, -1.237304360573104, -1.7951937533560587, -2.2771647006418325, 2.116283881882244, 0.5441358187264935, 0.649332833681072, 1.3277602384779907, 1.887849077058588, -0.15409647797384318, -1.9887738410648226, -1.8572038847341623, 3.8237893527546216, -2.3279915652581185, -1.0417338695673983, 1.5389595804405145, 4.108395337874005, -1.2574157939393529, 0.832859513884534, -1.096371248284566, 1.313766513926777, -1.084068829117184, -1.0765472535480614, 3.4953404060875615, 0.6225446789151459, -1.0938638114526502, 3.263472961880269, 0.6877415550946107, 0.9862388286017421, 1.7839222496693399, -2.4511989168581896, -1.5716301244613609, 2.124311119576812, -0.6866838158073056, -0.08556924001130906, 0.021199810853469447, 2.4845747244987333, 3.049819923384381, 2.2936411035553537, -1.4973068058681123, 0.014486147457983378, 2.9460859378699915, -1.0628287690480493, -0.1777949906785663, -1.0931726722079573, 3.6988545639113015, -1.4316095941737372, -0.84375669675762, 2.6437670576271275, 2.1220504568661385, 0.9238643313842876, 3.42189494092806, 3.805319651363339, 4.078721409895111], \"z\": [19.617700897222452, 9.454024924421777, 2.3926396632650486, 18.298747967604676, 11.706614570871748, 20.66605817317079, 4.339996527262667, 20.428170845126694, 17.034752475063602, 22.839206680655327, 15.159896891325458, 8.666410640756673, 12.204921578074375, 12.939774312630478, 4.42204282916885, 7.394691711147534, 8.874327304284677, 7.776497301722314, 27.80848437639765, 6.984580672137963, 21.771292240615992, 6.969669748461682, 29.09463384167063, 14.95652717824912, 9.174868107839735, 16.242939905102315, 17.685654297719328, 22.041616547536147, 6.134515549522834, 10.677655923610088, 1.4071930912605524, 3.0589757205881085, 21.179473817011143, 14.296614060204293, 11.660197617436623, 16.890220313586866, 8.365290123438363, 28.21392570992971, 8.32277852720898, 4.427203530536765, 8.00978225227158, 14.399594077571285, 13.01950436149631, 22.812230374791355, 5.614736760105202, 10.950552317340259, 4.8662076812496675, 20.901153310390217, 3.4734650591798406, 11.138391938279273, 11.12715670947695, 8.204789014775853, 2.66233608952867, 7.152702581733311, 10.372156666502296, 9.174501546867038, 6.631609441335536, 6.2702833376169025, 33.49173720324617, 8.889415664829869, 13.121201701882116, 16.76267303990486, 18.531948802833295, 18.269287115897367, 15.349936501611197, 5.355707077737162, 17.045901307002378, 21.493416023607512, 11.130926774262692, 21.04918934180446, 10.465589963281843, 9.830994457382594, 13.320717451787678, 17.357174495570053, 17.325796006019882, 6.300361124924468, 11.387592483623026, 6.321319859472338, 6.0813135598936485, 7.984814435781604, 1.8618303115925312, 16.43840756866645, 13.746681681229916, 13.391137739302598, 7.19625725988725, 13.344402249935996, 3.4239212354396726, 30.034930882316587, 4.462986536505128, 8.652199012340043, 13.75931863881363, 17.312419953426573, 4.288944938388995, 8.645001739960174, 9.68291835331241, 12.265266817591352, 5.440721256267937, 16.821905027117108, 30.051832241486284, 24.636068374951186]}, {\"type\": \"surface\", \"x\": [-2.79824223228232, -2.0223161855050655, -1.2463901387278113, -0.4704640919505567, 0.30546195482669747, 1.0813880016039517, 1.8573140483812067, 2.633240095158461, 3.409166141935715, 4.185092188712969], \"y\": [-2.6417140300685125, -1.8917018780748993, -1.1416897260812864, -0.39167757408767345, 0.3583345779059397, 1.1083467298995529, 1.8583588818931656, 2.6083710338867787, 3.358383185880392, 4.108395337874005], \"z\": [[8.460334485354863, 9.068136930893994, 9.675939376433124, 10.283741821972255, 10.891544267511383, 11.499346713050514, 12.107149158589644, 12.714951604128773, 13.322754049667903, 13.930556495207032], [8.737762667520105, 9.345565113059235, 9.953367558598366, 10.561170004137496, 11.168972449676625, 11.776774895215755, 12.384577340754886, 12.992379786294014, 13.600182231833145, 14.207984677372274], [9.015190849685348, 9.622993295224479, 10.230795740763607, 10.838598186302738, 11.446400631841867, 12.054203077380997, 12.662005522920127, 13.269807968459256, 13.877610413998386, 14.485412859537515], [9.29261903185059, 9.90042147738972, 10.508223922928849, 11.11602636846798, 11.723828814007108, 12.331631259546239, 12.939433705085369, 13.5472361506245, 14.155038596163628, 14.762841041702757], [9.570047214015831, 10.177849659554962, 10.78565210509409, 11.393454550633221, 12.001256996172351, 12.60905944171148, 13.21686188725061, 13.824664332789741, 14.43246677832887, 15.040269223868], [9.847475396181073, 10.455277841720203, 11.063080287259332, 11.670882732798463, 12.278685178337593, 12.886487623876722, 13.494290069415852, 14.102092514954983, 14.709894960494111, 15.317697406033242], [10.124903578346315, 10.732706023885445, 11.340508469424574, 11.948310914963704, 12.556113360502835, 13.163915806041963, 13.771718251581094, 14.379520697120224, 14.987323142659353, 15.595125588198483], [10.402331760511556, 11.010134206050687, 11.617936651589817, 12.225739097128946, 12.833541542668076, 13.441343988207205, 14.049146433746335, 14.656948879285466, 15.264751324824594, 15.872553770363725], [10.679759942676798, 11.287562388215928, 11.895364833755059, 12.503167279294189, 13.110969724833318, 13.718772170372448, 14.326574615911579, 14.934377061450707, 15.542179506989838, 16.149981952528968], [10.957188124842041, 11.56499057038117, 12.1727930159203, 12.78059546145943, 13.38839790699856, 13.99620035253769, 14.60400279807682, 15.211805243615949, 15.81960768915508, 16.42741013469421]]}],                        {\"legend\": {\"tracegroupgap\": 0}, \"margin\": {\"t\": 60}, \"scene\": {\"domain\": {\"x\": [0.0, 1.0], \"y\": [0.0, 1.0]}, \"xaxis\": {\"title\": {\"text\": \"x\"}}, \"yaxis\": {\"title\": {\"text\": \"y\"}}, \"zaxis\": {\"title\": {\"text\": \"z\"}}}, \"template\": {\"data\": {\"bar\": [{\"error_x\": {\"color\": \"#2a3f5f\"}, \"error_y\": {\"color\": \"#2a3f5f\"}, \"marker\": {\"line\": {\"color\": \"#E5ECF6\", \"width\": 0.5}}, \"type\": \"bar\"}], \"barpolar\": [{\"marker\": {\"line\": {\"color\": \"#E5ECF6\", \"width\": 0.5}}, \"type\": \"barpolar\"}], \"carpet\": [{\"aaxis\": {\"endlinecolor\": \"#2a3f5f\", \"gridcolor\": \"white\", \"linecolor\": \"white\", \"minorgridcolor\": \"white\", \"startlinecolor\": \"#2a3f5f\"}, \"baxis\": {\"endlinecolor\": \"#2a3f5f\", \"gridcolor\": \"white\", \"linecolor\": \"white\", \"minorgridcolor\": \"white\", \"startlinecolor\": \"#2a3f5f\"}, \"type\": \"carpet\"}], \"choropleth\": [{\"colorbar\": {\"outlinewidth\": 0, \"ticks\": \"\"}, \"type\": \"choropleth\"}], \"contour\": [{\"colorbar\": {\"outlinewidth\": 0, \"ticks\": \"\"}, \"colorscale\": [[0.0, \"#0d0887\"], [0.1111111111111111, \"#46039f\"], [0.2222222222222222, \"#7201a8\"], [0.3333333333333333, \"#9c179e\"], [0.4444444444444444, \"#bd3786\"], [0.5555555555555556, \"#d8576b\"], [0.6666666666666666, \"#ed7953\"], [0.7777777777777778, \"#fb9f3a\"], [0.8888888888888888, \"#fdca26\"], [1.0, \"#f0f921\"]], \"type\": \"contour\"}], \"contourcarpet\": [{\"colorbar\": {\"outlinewidth\": 0, \"ticks\": \"\"}, \"type\": \"contourcarpet\"}], \"heatmap\": [{\"colorbar\": {\"outlinewidth\": 0, \"ticks\": \"\"}, \"colorscale\": [[0.0, \"#0d0887\"], [0.1111111111111111, \"#46039f\"], [0.2222222222222222, \"#7201a8\"], [0.3333333333333333, \"#9c179e\"], [0.4444444444444444, \"#bd3786\"], [0.5555555555555556, \"#d8576b\"], [0.6666666666666666, \"#ed7953\"], [0.7777777777777778, \"#fb9f3a\"], [0.8888888888888888, \"#fdca26\"], [1.0, \"#f0f921\"]], \"type\": \"heatmap\"}], \"heatmapgl\": [{\"colorbar\": {\"outlinewidth\": 0, \"ticks\": \"\"}, \"colorscale\": [[0.0, \"#0d0887\"], [0.1111111111111111, \"#46039f\"], [0.2222222222222222, \"#7201a8\"], [0.3333333333333333, \"#9c179e\"], [0.4444444444444444, \"#bd3786\"], [0.5555555555555556, \"#d8576b\"], [0.6666666666666666, \"#ed7953\"], [0.7777777777777778, \"#fb9f3a\"], [0.8888888888888888, \"#fdca26\"], [1.0, \"#f0f921\"]], \"type\": \"heatmapgl\"}], \"histogram\": [{\"marker\": {\"colorbar\": {\"outlinewidth\": 0, \"ticks\": \"\"}}, \"type\": \"histogram\"}], \"histogram2d\": [{\"colorbar\": {\"outlinewidth\": 0, \"ticks\": \"\"}, \"colorscale\": [[0.0, \"#0d0887\"], [0.1111111111111111, \"#46039f\"], [0.2222222222222222, \"#7201a8\"], [0.3333333333333333, \"#9c179e\"], [0.4444444444444444, \"#bd3786\"], [0.5555555555555556, \"#d8576b\"], [0.6666666666666666, \"#ed7953\"], [0.7777777777777778, \"#fb9f3a\"], [0.8888888888888888, \"#fdca26\"], [1.0, \"#f0f921\"]], \"type\": \"histogram2d\"}], \"histogram2dcontour\": [{\"colorbar\": {\"outlinewidth\": 0, \"ticks\": \"\"}, \"colorscale\": [[0.0, \"#0d0887\"], [0.1111111111111111, \"#46039f\"], [0.2222222222222222, \"#7201a8\"], [0.3333333333333333, \"#9c179e\"], [0.4444444444444444, \"#bd3786\"], [0.5555555555555556, \"#d8576b\"], [0.6666666666666666, \"#ed7953\"], [0.7777777777777778, \"#fb9f3a\"], [0.8888888888888888, \"#fdca26\"], [1.0, \"#f0f921\"]], \"type\": \"histogram2dcontour\"}], \"mesh3d\": [{\"colorbar\": {\"outlinewidth\": 0, \"ticks\": \"\"}, \"type\": \"mesh3d\"}], \"parcoords\": [{\"line\": {\"colorbar\": {\"outlinewidth\": 0, \"ticks\": \"\"}}, \"type\": \"parcoords\"}], \"pie\": [{\"automargin\": true, \"type\": \"pie\"}], \"scatter\": [{\"marker\": {\"colorbar\": {\"outlinewidth\": 0, \"ticks\": \"\"}}, \"type\": \"scatter\"}], \"scatter3d\": [{\"line\": {\"colorbar\": {\"outlinewidth\": 0, \"ticks\": \"\"}}, \"marker\": {\"colorbar\": {\"outlinewidth\": 0, \"ticks\": \"\"}}, \"type\": \"scatter3d\"}], \"scattercarpet\": [{\"marker\": {\"colorbar\": {\"outlinewidth\": 0, \"ticks\": \"\"}}, \"type\": \"scattercarpet\"}], \"scattergeo\": [{\"marker\": {\"colorbar\": {\"outlinewidth\": 0, \"ticks\": \"\"}}, \"type\": \"scattergeo\"}], \"scattergl\": [{\"marker\": {\"colorbar\": {\"outlinewidth\": 0, \"ticks\": \"\"}}, \"type\": \"scattergl\"}], \"scattermapbox\": [{\"marker\": {\"colorbar\": {\"outlinewidth\": 0, \"ticks\": \"\"}}, \"type\": \"scattermapbox\"}], \"scatterpolar\": [{\"marker\": {\"colorbar\": {\"outlinewidth\": 0, \"ticks\": \"\"}}, \"type\": \"scatterpolar\"}], \"scatterpolargl\": [{\"marker\": {\"colorbar\": {\"outlinewidth\": 0, \"ticks\": \"\"}}, \"type\": \"scatterpolargl\"}], \"scatterternary\": [{\"marker\": {\"colorbar\": {\"outlinewidth\": 0, \"ticks\": \"\"}}, \"type\": \"scatterternary\"}], \"surface\": [{\"colorbar\": {\"outlinewidth\": 0, \"ticks\": \"\"}, \"colorscale\": [[0.0, \"#0d0887\"], [0.1111111111111111, \"#46039f\"], [0.2222222222222222, \"#7201a8\"], [0.3333333333333333, \"#9c179e\"], [0.4444444444444444, \"#bd3786\"], [0.5555555555555556, \"#d8576b\"], [0.6666666666666666, \"#ed7953\"], [0.7777777777777778, \"#fb9f3a\"], [0.8888888888888888, \"#fdca26\"], [1.0, \"#f0f921\"]], \"type\": \"surface\"}], \"table\": [{\"cells\": {\"fill\": {\"color\": \"#EBF0F8\"}, \"line\": {\"color\": \"white\"}}, \"header\": {\"fill\": {\"color\": \"#C8D4E3\"}, \"line\": {\"color\": \"white\"}}, \"type\": \"table\"}]}, \"layout\": {\"annotationdefaults\": {\"arrowcolor\": \"#2a3f5f\", \"arrowhead\": 0, \"arrowwidth\": 1}, \"autotypenumbers\": \"strict\", \"coloraxis\": {\"colorbar\": {\"outlinewidth\": 0, \"ticks\": \"\"}}, \"colorscale\": {\"diverging\": [[0, \"#8e0152\"], [0.1, \"#c51b7d\"], [0.2, \"#de77ae\"], [0.3, \"#f1b6da\"], [0.4, \"#fde0ef\"], [0.5, \"#f7f7f7\"], [0.6, \"#e6f5d0\"], [0.7, \"#b8e186\"], [0.8, \"#7fbc41\"], [0.9, \"#4d9221\"], [1, \"#276419\"]], \"sequential\": [[0.0, \"#0d0887\"], [0.1111111111111111, \"#46039f\"], [0.2222222222222222, \"#7201a8\"], [0.3333333333333333, \"#9c179e\"], [0.4444444444444444, \"#bd3786\"], [0.5555555555555556, \"#d8576b\"], [0.6666666666666666, \"#ed7953\"], [0.7777777777777778, \"#fb9f3a\"], [0.8888888888888888, \"#fdca26\"], [1.0, \"#f0f921\"]], \"sequentialminus\": [[0.0, \"#0d0887\"], [0.1111111111111111, \"#46039f\"], [0.2222222222222222, \"#7201a8\"], [0.3333333333333333, \"#9c179e\"], [0.4444444444444444, \"#bd3786\"], [0.5555555555555556, \"#d8576b\"], [0.6666666666666666, \"#ed7953\"], [0.7777777777777778, \"#fb9f3a\"], [0.8888888888888888, \"#fdca26\"], [1.0, \"#f0f921\"]]}, \"colorway\": [\"#636efa\", \"#EF553B\", \"#00cc96\", \"#ab63fa\", \"#FFA15A\", \"#19d3f3\", \"#FF6692\", \"#B6E880\", \"#FF97FF\", \"#FECB52\"], \"font\": {\"color\": \"#2a3f5f\"}, \"geo\": {\"bgcolor\": \"white\", \"lakecolor\": \"white\", \"landcolor\": \"#E5ECF6\", \"showlakes\": true, \"showland\": true, \"subunitcolor\": \"white\"}, \"hoverlabel\": {\"align\": \"left\"}, \"hovermode\": \"closest\", \"mapbox\": {\"style\": \"light\"}, \"paper_bgcolor\": \"white\", \"plot_bgcolor\": \"#E5ECF6\", \"polar\": {\"angularaxis\": {\"gridcolor\": \"white\", \"linecolor\": \"white\", \"ticks\": \"\"}, \"bgcolor\": \"#E5ECF6\", \"radialaxis\": {\"gridcolor\": \"white\", \"linecolor\": \"white\", \"ticks\": \"\"}}, \"scene\": {\"xaxis\": {\"backgroundcolor\": \"#E5ECF6\", \"gridcolor\": \"white\", \"gridwidth\": 2, \"linecolor\": \"white\", \"showbackground\": true, \"ticks\": \"\", \"zerolinecolor\": \"white\"}, \"yaxis\": {\"backgroundcolor\": \"#E5ECF6\", \"gridcolor\": \"white\", \"gridwidth\": 2, \"linecolor\": \"white\", \"showbackground\": true, \"ticks\": \"\", \"zerolinecolor\": \"white\"}, \"zaxis\": {\"backgroundcolor\": \"#E5ECF6\", \"gridcolor\": \"white\", \"gridwidth\": 2, \"linecolor\": \"white\", \"showbackground\": true, \"ticks\": \"\", \"zerolinecolor\": \"white\"}}, \"shapedefaults\": {\"line\": {\"color\": \"#2a3f5f\"}}, \"ternary\": {\"aaxis\": {\"gridcolor\": \"white\", \"linecolor\": \"white\", \"ticks\": \"\"}, \"baxis\": {\"gridcolor\": \"white\", \"linecolor\": \"white\", \"ticks\": \"\"}, \"bgcolor\": \"#E5ECF6\", \"caxis\": {\"gridcolor\": \"white\", \"linecolor\": \"white\", \"ticks\": \"\"}}, \"title\": {\"x\": 0.05}, \"xaxis\": {\"automargin\": true, \"gridcolor\": \"white\", \"linecolor\": \"white\", \"ticks\": \"\", \"title\": {\"standoff\": 15}, \"zerolinecolor\": \"white\", \"zerolinewidth\": 2}, \"yaxis\": {\"automargin\": true, \"gridcolor\": \"white\", \"linecolor\": \"white\", \"ticks\": \"\", \"title\": {\"standoff\": 15}, \"zerolinecolor\": \"white\", \"zerolinewidth\": 2}}}},                        {\"responsive\": true}                    ).then(function(){\n",
       "                            \n",
       "var gd = document.getElementById('cf0ddb4f-b70f-45f6-b3d6-f4228a53c4b8');\n",
       "var x = new MutationObserver(function (mutations, observer) {{\n",
       "        var display = window.getComputedStyle(gd).display;\n",
       "        if (!display || display === 'none') {{\n",
       "            console.log([gd, 'removed!']);\n",
       "            Plotly.purge(gd);\n",
       "            observer.disconnect();\n",
       "        }}\n",
       "}});\n",
       "\n",
       "// Listen for the removal of the full notebook cells\n",
       "var notebookContainer = gd.closest('#notebook-container');\n",
       "if (notebookContainer) {{\n",
       "    x.observe(notebookContainer, {childList: true});\n",
       "}}\n",
       "\n",
       "// Listen for the clearing of the current output cell\n",
       "var outputEl = gd.closest('.output');\n",
       "if (outputEl) {{\n",
       "    x.observe(outputEl, {childList: true});\n",
       "}}\n",
       "\n",
       "                        })                };                });            </script>        </div>"
      ]
     },
     "metadata": {},
     "output_type": "display_data"
    }
   ],
   "source": [
    "import plotly.graph_objects as go\n",
    "\n",
    "fig = px.scatter_3d(df, x=x.ravel(), y=y.ravel(), z=z.ravel())\n",
    "\n",
    "fig.add_trace(go.Surface(x = x_input, y = y_input, z =z_final ))\n",
    "\n",
    "fig.show()"
   ]
  },
  {
   "cell_type": "code",
   "execution_count": 30,
   "id": "3b155294",
   "metadata": {},
   "outputs": [
    {
     "data": {
      "text/plain": [
       "(100, 2)"
      ]
     },
     "execution_count": 30,
     "metadata": {},
     "output_type": "execute_result"
    }
   ],
   "source": [
    "X_multi = np.array([x,y]).reshape(100,2)\n",
    "X_multi.shape"
   ]
  },
  {
   "cell_type": "code",
   "execution_count": 31,
   "id": "55e30cc7",
   "metadata": {},
   "outputs": [],
   "source": [
    "poly = PolynomialFeatures(degree=30)\n",
    "X_multi_trans = poly.fit_transform(X_multi)"
   ]
  },
  {
   "cell_type": "code",
   "execution_count": 32,
   "id": "0486c5ea",
   "metadata": {},
   "outputs": [
    {
     "name": "stdout",
     "output_type": "stream",
     "text": [
      "Input 2\n",
      "Ouput 496\n",
      "Powers\n",
      " [[ 0  0]\n",
      " [ 1  0]\n",
      " [ 0  1]\n",
      " [ 2  0]\n",
      " [ 1  1]\n",
      " [ 0  2]\n",
      " [ 3  0]\n",
      " [ 2  1]\n",
      " [ 1  2]\n",
      " [ 0  3]\n",
      " [ 4  0]\n",
      " [ 3  1]\n",
      " [ 2  2]\n",
      " [ 1  3]\n",
      " [ 0  4]\n",
      " [ 5  0]\n",
      " [ 4  1]\n",
      " [ 3  2]\n",
      " [ 2  3]\n",
      " [ 1  4]\n",
      " [ 0  5]\n",
      " [ 6  0]\n",
      " [ 5  1]\n",
      " [ 4  2]\n",
      " [ 3  3]\n",
      " [ 2  4]\n",
      " [ 1  5]\n",
      " [ 0  6]\n",
      " [ 7  0]\n",
      " [ 6  1]\n",
      " [ 5  2]\n",
      " [ 4  3]\n",
      " [ 3  4]\n",
      " [ 2  5]\n",
      " [ 1  6]\n",
      " [ 0  7]\n",
      " [ 8  0]\n",
      " [ 7  1]\n",
      " [ 6  2]\n",
      " [ 5  3]\n",
      " [ 4  4]\n",
      " [ 3  5]\n",
      " [ 2  6]\n",
      " [ 1  7]\n",
      " [ 0  8]\n",
      " [ 9  0]\n",
      " [ 8  1]\n",
      " [ 7  2]\n",
      " [ 6  3]\n",
      " [ 5  4]\n",
      " [ 4  5]\n",
      " [ 3  6]\n",
      " [ 2  7]\n",
      " [ 1  8]\n",
      " [ 0  9]\n",
      " [10  0]\n",
      " [ 9  1]\n",
      " [ 8  2]\n",
      " [ 7  3]\n",
      " [ 6  4]\n",
      " [ 5  5]\n",
      " [ 4  6]\n",
      " [ 3  7]\n",
      " [ 2  8]\n",
      " [ 1  9]\n",
      " [ 0 10]\n",
      " [11  0]\n",
      " [10  1]\n",
      " [ 9  2]\n",
      " [ 8  3]\n",
      " [ 7  4]\n",
      " [ 6  5]\n",
      " [ 5  6]\n",
      " [ 4  7]\n",
      " [ 3  8]\n",
      " [ 2  9]\n",
      " [ 1 10]\n",
      " [ 0 11]\n",
      " [12  0]\n",
      " [11  1]\n",
      " [10  2]\n",
      " [ 9  3]\n",
      " [ 8  4]\n",
      " [ 7  5]\n",
      " [ 6  6]\n",
      " [ 5  7]\n",
      " [ 4  8]\n",
      " [ 3  9]\n",
      " [ 2 10]\n",
      " [ 1 11]\n",
      " [ 0 12]\n",
      " [13  0]\n",
      " [12  1]\n",
      " [11  2]\n",
      " [10  3]\n",
      " [ 9  4]\n",
      " [ 8  5]\n",
      " [ 7  6]\n",
      " [ 6  7]\n",
      " [ 5  8]\n",
      " [ 4  9]\n",
      " [ 3 10]\n",
      " [ 2 11]\n",
      " [ 1 12]\n",
      " [ 0 13]\n",
      " [14  0]\n",
      " [13  1]\n",
      " [12  2]\n",
      " [11  3]\n",
      " [10  4]\n",
      " [ 9  5]\n",
      " [ 8  6]\n",
      " [ 7  7]\n",
      " [ 6  8]\n",
      " [ 5  9]\n",
      " [ 4 10]\n",
      " [ 3 11]\n",
      " [ 2 12]\n",
      " [ 1 13]\n",
      " [ 0 14]\n",
      " [15  0]\n",
      " [14  1]\n",
      " [13  2]\n",
      " [12  3]\n",
      " [11  4]\n",
      " [10  5]\n",
      " [ 9  6]\n",
      " [ 8  7]\n",
      " [ 7  8]\n",
      " [ 6  9]\n",
      " [ 5 10]\n",
      " [ 4 11]\n",
      " [ 3 12]\n",
      " [ 2 13]\n",
      " [ 1 14]\n",
      " [ 0 15]\n",
      " [16  0]\n",
      " [15  1]\n",
      " [14  2]\n",
      " [13  3]\n",
      " [12  4]\n",
      " [11  5]\n",
      " [10  6]\n",
      " [ 9  7]\n",
      " [ 8  8]\n",
      " [ 7  9]\n",
      " [ 6 10]\n",
      " [ 5 11]\n",
      " [ 4 12]\n",
      " [ 3 13]\n",
      " [ 2 14]\n",
      " [ 1 15]\n",
      " [ 0 16]\n",
      " [17  0]\n",
      " [16  1]\n",
      " [15  2]\n",
      " [14  3]\n",
      " [13  4]\n",
      " [12  5]\n",
      " [11  6]\n",
      " [10  7]\n",
      " [ 9  8]\n",
      " [ 8  9]\n",
      " [ 7 10]\n",
      " [ 6 11]\n",
      " [ 5 12]\n",
      " [ 4 13]\n",
      " [ 3 14]\n",
      " [ 2 15]\n",
      " [ 1 16]\n",
      " [ 0 17]\n",
      " [18  0]\n",
      " [17  1]\n",
      " [16  2]\n",
      " [15  3]\n",
      " [14  4]\n",
      " [13  5]\n",
      " [12  6]\n",
      " [11  7]\n",
      " [10  8]\n",
      " [ 9  9]\n",
      " [ 8 10]\n",
      " [ 7 11]\n",
      " [ 6 12]\n",
      " [ 5 13]\n",
      " [ 4 14]\n",
      " [ 3 15]\n",
      " [ 2 16]\n",
      " [ 1 17]\n",
      " [ 0 18]\n",
      " [19  0]\n",
      " [18  1]\n",
      " [17  2]\n",
      " [16  3]\n",
      " [15  4]\n",
      " [14  5]\n",
      " [13  6]\n",
      " [12  7]\n",
      " [11  8]\n",
      " [10  9]\n",
      " [ 9 10]\n",
      " [ 8 11]\n",
      " [ 7 12]\n",
      " [ 6 13]\n",
      " [ 5 14]\n",
      " [ 4 15]\n",
      " [ 3 16]\n",
      " [ 2 17]\n",
      " [ 1 18]\n",
      " [ 0 19]\n",
      " [20  0]\n",
      " [19  1]\n",
      " [18  2]\n",
      " [17  3]\n",
      " [16  4]\n",
      " [15  5]\n",
      " [14  6]\n",
      " [13  7]\n",
      " [12  8]\n",
      " [11  9]\n",
      " [10 10]\n",
      " [ 9 11]\n",
      " [ 8 12]\n",
      " [ 7 13]\n",
      " [ 6 14]\n",
      " [ 5 15]\n",
      " [ 4 16]\n",
      " [ 3 17]\n",
      " [ 2 18]\n",
      " [ 1 19]\n",
      " [ 0 20]\n",
      " [21  0]\n",
      " [20  1]\n",
      " [19  2]\n",
      " [18  3]\n",
      " [17  4]\n",
      " [16  5]\n",
      " [15  6]\n",
      " [14  7]\n",
      " [13  8]\n",
      " [12  9]\n",
      " [11 10]\n",
      " [10 11]\n",
      " [ 9 12]\n",
      " [ 8 13]\n",
      " [ 7 14]\n",
      " [ 6 15]\n",
      " [ 5 16]\n",
      " [ 4 17]\n",
      " [ 3 18]\n",
      " [ 2 19]\n",
      " [ 1 20]\n",
      " [ 0 21]\n",
      " [22  0]\n",
      " [21  1]\n",
      " [20  2]\n",
      " [19  3]\n",
      " [18  4]\n",
      " [17  5]\n",
      " [16  6]\n",
      " [15  7]\n",
      " [14  8]\n",
      " [13  9]\n",
      " [12 10]\n",
      " [11 11]\n",
      " [10 12]\n",
      " [ 9 13]\n",
      " [ 8 14]\n",
      " [ 7 15]\n",
      " [ 6 16]\n",
      " [ 5 17]\n",
      " [ 4 18]\n",
      " [ 3 19]\n",
      " [ 2 20]\n",
      " [ 1 21]\n",
      " [ 0 22]\n",
      " [23  0]\n",
      " [22  1]\n",
      " [21  2]\n",
      " [20  3]\n",
      " [19  4]\n",
      " [18  5]\n",
      " [17  6]\n",
      " [16  7]\n",
      " [15  8]\n",
      " [14  9]\n",
      " [13 10]\n",
      " [12 11]\n",
      " [11 12]\n",
      " [10 13]\n",
      " [ 9 14]\n",
      " [ 8 15]\n",
      " [ 7 16]\n",
      " [ 6 17]\n",
      " [ 5 18]\n",
      " [ 4 19]\n",
      " [ 3 20]\n",
      " [ 2 21]\n",
      " [ 1 22]\n",
      " [ 0 23]\n",
      " [24  0]\n",
      " [23  1]\n",
      " [22  2]\n",
      " [21  3]\n",
      " [20  4]\n",
      " [19  5]\n",
      " [18  6]\n",
      " [17  7]\n",
      " [16  8]\n",
      " [15  9]\n",
      " [14 10]\n",
      " [13 11]\n",
      " [12 12]\n",
      " [11 13]\n",
      " [10 14]\n",
      " [ 9 15]\n",
      " [ 8 16]\n",
      " [ 7 17]\n",
      " [ 6 18]\n",
      " [ 5 19]\n",
      " [ 4 20]\n",
      " [ 3 21]\n",
      " [ 2 22]\n",
      " [ 1 23]\n",
      " [ 0 24]\n",
      " [25  0]\n",
      " [24  1]\n",
      " [23  2]\n",
      " [22  3]\n",
      " [21  4]\n",
      " [20  5]\n",
      " [19  6]\n",
      " [18  7]\n",
      " [17  8]\n",
      " [16  9]\n",
      " [15 10]\n",
      " [14 11]\n",
      " [13 12]\n",
      " [12 13]\n",
      " [11 14]\n",
      " [10 15]\n",
      " [ 9 16]\n",
      " [ 8 17]\n",
      " [ 7 18]\n",
      " [ 6 19]\n",
      " [ 5 20]\n",
      " [ 4 21]\n",
      " [ 3 22]\n",
      " [ 2 23]\n",
      " [ 1 24]\n",
      " [ 0 25]\n",
      " [26  0]\n",
      " [25  1]\n",
      " [24  2]\n",
      " [23  3]\n",
      " [22  4]\n",
      " [21  5]\n",
      " [20  6]\n",
      " [19  7]\n",
      " [18  8]\n",
      " [17  9]\n",
      " [16 10]\n",
      " [15 11]\n",
      " [14 12]\n",
      " [13 13]\n",
      " [12 14]\n",
      " [11 15]\n",
      " [10 16]\n",
      " [ 9 17]\n",
      " [ 8 18]\n",
      " [ 7 19]\n",
      " [ 6 20]\n",
      " [ 5 21]\n",
      " [ 4 22]\n",
      " [ 3 23]\n",
      " [ 2 24]\n",
      " [ 1 25]\n",
      " [ 0 26]\n",
      " [27  0]\n",
      " [26  1]\n",
      " [25  2]\n",
      " [24  3]\n",
      " [23  4]\n",
      " [22  5]\n",
      " [21  6]\n",
      " [20  7]\n",
      " [19  8]\n",
      " [18  9]\n",
      " [17 10]\n",
      " [16 11]\n",
      " [15 12]\n",
      " [14 13]\n",
      " [13 14]\n",
      " [12 15]\n",
      " [11 16]\n",
      " [10 17]\n",
      " [ 9 18]\n",
      " [ 8 19]\n",
      " [ 7 20]\n",
      " [ 6 21]\n",
      " [ 5 22]\n",
      " [ 4 23]\n",
      " [ 3 24]\n",
      " [ 2 25]\n",
      " [ 1 26]\n",
      " [ 0 27]\n",
      " [28  0]\n",
      " [27  1]\n",
      " [26  2]\n",
      " [25  3]\n",
      " [24  4]\n",
      " [23  5]\n",
      " [22  6]\n",
      " [21  7]\n",
      " [20  8]\n",
      " [19  9]\n",
      " [18 10]\n",
      " [17 11]\n",
      " [16 12]\n",
      " [15 13]\n",
      " [14 14]\n",
      " [13 15]\n",
      " [12 16]\n",
      " [11 17]\n",
      " [10 18]\n",
      " [ 9 19]\n",
      " [ 8 20]\n",
      " [ 7 21]\n",
      " [ 6 22]\n",
      " [ 5 23]\n",
      " [ 4 24]\n",
      " [ 3 25]\n",
      " [ 2 26]\n",
      " [ 1 27]\n",
      " [ 0 28]\n",
      " [29  0]\n",
      " [28  1]\n",
      " [27  2]\n",
      " [26  3]\n",
      " [25  4]\n",
      " [24  5]\n",
      " [23  6]\n",
      " [22  7]\n",
      " [21  8]\n",
      " [20  9]\n",
      " [19 10]\n",
      " [18 11]\n",
      " [17 12]\n",
      " [16 13]\n",
      " [15 14]\n",
      " [14 15]\n",
      " [13 16]\n",
      " [12 17]\n",
      " [11 18]\n",
      " [10 19]\n",
      " [ 9 20]\n",
      " [ 8 21]\n",
      " [ 7 22]\n",
      " [ 6 23]\n",
      " [ 5 24]\n",
      " [ 4 25]\n",
      " [ 3 26]\n",
      " [ 2 27]\n",
      " [ 1 28]\n",
      " [ 0 29]\n",
      " [30  0]\n",
      " [29  1]\n",
      " [28  2]\n",
      " [27  3]\n",
      " [26  4]\n",
      " [25  5]\n",
      " [24  6]\n",
      " [23  7]\n",
      " [22  8]\n",
      " [21  9]\n",
      " [20 10]\n",
      " [19 11]\n",
      " [18 12]\n",
      " [17 13]\n",
      " [16 14]\n",
      " [15 15]\n",
      " [14 16]\n",
      " [13 17]\n",
      " [12 18]\n",
      " [11 19]\n",
      " [10 20]\n",
      " [ 9 21]\n",
      " [ 8 22]\n",
      " [ 7 23]\n",
      " [ 6 24]\n",
      " [ 5 25]\n",
      " [ 4 26]\n",
      " [ 3 27]\n",
      " [ 2 28]\n",
      " [ 1 29]\n",
      " [ 0 30]]\n"
     ]
    },
    {
     "name": "stderr",
     "output_type": "stream",
     "text": [
      "C:\\Anaconda3\\lib\\site-packages\\sklearn\\utils\\deprecation.py:103: FutureWarning:\n",
      "\n",
      "The attribute `n_input_features_` was deprecated in version 1.0 and will be removed in 1.2.\n",
      "\n"
     ]
    }
   ],
   "source": [
    "print(\"Input\",poly.n_input_features_)\n",
    "print(\"Ouput\",poly.n_output_features_)\n",
    "print(\"Powers\\n\",poly.powers_)"
   ]
  },
  {
   "cell_type": "code",
   "execution_count": 33,
   "id": "64c43050",
   "metadata": {},
   "outputs": [
    {
     "data": {
      "text/plain": [
       "(100, 496)"
      ]
     },
     "execution_count": 33,
     "metadata": {},
     "output_type": "execute_result"
    }
   ],
   "source": [
    "X_multi_trans.shape"
   ]
  },
  {
   "cell_type": "code",
   "execution_count": 34,
   "id": "b285b9ae",
   "metadata": {},
   "outputs": [
    {
     "data": {
      "text/plain": [
       "LinearRegression()"
      ]
     },
     "execution_count": 34,
     "metadata": {},
     "output_type": "execute_result"
    }
   ],
   "source": [
    "lr = LinearRegression()\n",
    "lr.fit(X_multi_trans,z)"
   ]
  },
  {
   "cell_type": "code",
   "execution_count": 35,
   "id": "e38c6645",
   "metadata": {},
   "outputs": [],
   "source": [
    "X_test_multi = poly.transform(final)"
   ]
  },
  {
   "cell_type": "code",
   "execution_count": 36,
   "id": "4c33cbb5",
   "metadata": {},
   "outputs": [],
   "source": [
    "z_final = lr.predict(X_multi_trans).reshape(10,10)"
   ]
  },
  {
   "cell_type": "code",
   "execution_count": 38,
   "id": "de8b7bd8",
   "metadata": {},
   "outputs": [
    {
     "data": {
      "application/vnd.plotly.v1+json": {
       "config": {
        "plotlyServerURL": "https://plot.ly"
       },
       "data": [
        {
         "hovertemplate": "x=%{x}<br>y=%{y}<br>z=%{z}<extra></extra>",
         "legendgroup": "",
         "marker": {
          "color": "#636efa",
          "symbol": "circle"
         },
         "mode": "markers",
         "name": "",
         "scene": "scene",
         "showlegend": false,
         "type": "scatter3d",
         "x": [
          3.8822216410935146,
          -0.14883198887024207,
          0.6721904900331488,
          1.04260275575436,
          -1.818954513167986,
          1.4568960963189808,
          -0.5346661674014066,
          4.185092188712969,
          1.4505128619919105,
          4.031172075744557,
          3.476077664609412,
          -2.4055958048705817,
          2.8069845500039845,
          3.1227956996657946,
          -0.10477402806462122,
          -2.79824223228232,
          -0.5464887403036629,
          1.6965391790953577,
          3.6676084375114284,
          -2.101099529329196,
          -2.6099820255286126,
          0.5644898429262128,
          3.33264222632738,
          2.82396105704783,
          -2.698931123623738,
          2.4860710843622256,
          -2.606059709701162,
          3.5861582664733564,
          -0.47575819126009433,
          1.8365930998427613,
          0.9976304935417546,
          -0.8981458079389446,
          3.454159940699512,
          -2.7055577503155095,
          0.19469782888187037,
          2.7904916779809232,
          0.6243682635326016,
          3.4513409601710263,
          -0.01376698456256742,
          -0.18041595569357494,
          -1.9197489647033685,
          2.9970910970831026,
          3.0809457464087115,
          1.7160548304130314,
          1.1386792216263855,
          2.1245219708627063,
          1.8201864025449783,
          4.113129459946347,
          0.5306009641288258,
          -2.070132515943952,
          -2.516307829513531,
          2.5218790714744825,
          0.08942773939401505,
          1.0053277854070135,
          2.2272462508988564,
          2.735930311160957,
          1.1129077799088343,
          -0.4077203039833974,
          3.5435506778730206,
          1.4779350743952673,
          2.9856383901662493,
          3.1997597581927764,
          0.14408619544010337,
          3.6596986394030386,
          3.198658383612459,
          0.3673390674210468,
          3.3343783440511583,
          4.158540573256569,
          -2.6876293988734608,
          -2.6591235297768145,
          2.4265075572261523,
          -2.7442967506219684,
          0.8533962518910121,
          3.4648492690854056,
          3.605715350342636,
          0.5236029129563096,
          1.8533785357527846,
          -1.5176598905013843,
          0.4636214775597032,
          2.4941344909062764,
          -0.633182309373324,
          3.6158685027647195,
          2.018224395210053,
          1.440807370125607,
          0.3022797248415219,
          3.026456398559942,
          1.0691984748266363,
          4.122041981858704,
          0.7245652441714876,
          2.5058808143387807,
          3.261279457404168,
          0.4072661238653472,
          1.137819194957523,
          -2.5550981191687656,
          -0.1642023078134196,
          1.9509262523646873,
          1.852028272697928,
          -1.302416152906733,
          3.3149503271397958,
          2.035201075155463
         ],
         "y": [
          -1.8101965591846882,
          -2.6048345754449773,
          0.12996199533421215,
          3.6939785154650346,
          -2.427965603559091,
          3.592735396946064,
          -0.23525661830471556,
          -0.6241640154035442,
          3.5647702148739855,
          1.4427541083215925,
          0.39783493413230664,
          -0.5481067845334637,
          0.9437036751832886,
          0.42171871575275865,
          -1.8050476030487141,
          -0.21748227761365424,
          2.5998330976327866,
          1.3580903054916087,
          2.9097604726733586,
          -0.004050915715495762,
          3.7818152584339924,
          1.7999212057271947,
          3.6726704275525996,
          -2.0797803993687336,
          -1.0689873825198353,
          2.7890075132825736,
          2.9066336008907188,
          -2.6417140300685125,
          1.682232815537649,
          1.7545912419725083,
          -1.1155875734006866,
          1.1927522739581442,
          2.17201442193213,
          2.2345740144831128,
          2.98375736799309,
          2.859669566297387,
          2.2347613666681694,
          3.2766029667636394,
          2.247068515790537,
          1.4804480319771747,
          -1.1450752672130065,
          -2.2244581019123757,
          -0.46601442844159724,
          4.012729882969803,
          -1.4813835206361343,
          -2.398787236669456,
          -0.871933479366064,
          -1.237304360573104,
          -1.7951937533560587,
          -2.2771647006418325,
          2.116283881882244,
          0.5441358187264935,
          0.649332833681072,
          1.3277602384779907,
          1.887849077058588,
          -0.15409647797384318,
          -1.9887738410648226,
          -1.8572038847341623,
          3.8237893527546216,
          -2.3279915652581185,
          -1.0417338695673983,
          1.5389595804405145,
          4.108395337874005,
          -1.2574157939393529,
          0.832859513884534,
          -1.096371248284566,
          1.313766513926777,
          -1.084068829117184,
          -1.0765472535480614,
          3.4953404060875615,
          0.6225446789151459,
          -1.0938638114526502,
          3.263472961880269,
          0.6877415550946107,
          0.9862388286017421,
          1.7839222496693399,
          -2.4511989168581896,
          -1.5716301244613609,
          2.124311119576812,
          -0.6866838158073056,
          -0.08556924001130906,
          0.021199810853469447,
          2.4845747244987333,
          3.049819923384381,
          2.2936411035553537,
          -1.4973068058681123,
          0.014486147457983378,
          2.9460859378699915,
          -1.0628287690480493,
          -0.1777949906785663,
          -1.0931726722079573,
          3.6988545639113015,
          -1.4316095941737372,
          -0.84375669675762,
          2.6437670576271275,
          2.1220504568661385,
          0.9238643313842876,
          3.42189494092806,
          3.805319651363339,
          4.078721409895111
         ],
         "z": [
          19.617700897222452,
          9.454024924421777,
          2.3926396632650486,
          18.298747967604676,
          11.706614570871748,
          20.66605817317079,
          4.339996527262667,
          20.428170845126694,
          17.034752475063602,
          22.839206680655327,
          15.159896891325458,
          8.666410640756673,
          12.204921578074375,
          12.939774312630478,
          4.42204282916885,
          7.394691711147534,
          8.874327304284677,
          7.776497301722314,
          27.80848437639765,
          6.984580672137963,
          21.771292240615992,
          6.969669748461682,
          29.09463384167063,
          14.95652717824912,
          9.174868107839735,
          16.242939905102315,
          17.685654297719328,
          22.041616547536147,
          6.134515549522834,
          10.677655923610088,
          1.4071930912605524,
          3.0589757205881085,
          21.179473817011143,
          14.296614060204293,
          11.660197617436623,
          16.890220313586866,
          8.365290123438363,
          28.21392570992971,
          8.32277852720898,
          4.427203530536765,
          8.00978225227158,
          14.399594077571285,
          13.01950436149631,
          22.812230374791355,
          5.614736760105202,
          10.950552317340259,
          4.8662076812496675,
          20.901153310390217,
          3.4734650591798406,
          11.138391938279273,
          11.12715670947695,
          8.204789014775853,
          2.66233608952867,
          7.152702581733311,
          10.372156666502296,
          9.174501546867038,
          6.631609441335536,
          6.2702833376169025,
          33.49173720324617,
          8.889415664829869,
          13.121201701882116,
          16.76267303990486,
          18.531948802833295,
          18.269287115897367,
          15.349936501611197,
          5.355707077737162,
          17.045901307002378,
          21.493416023607512,
          11.130926774262692,
          21.04918934180446,
          10.465589963281843,
          9.830994457382594,
          13.320717451787678,
          17.357174495570053,
          17.325796006019882,
          6.300361124924468,
          11.387592483623026,
          6.321319859472338,
          6.0813135598936485,
          7.984814435781604,
          1.8618303115925312,
          16.43840756866645,
          13.746681681229916,
          13.391137739302598,
          7.19625725988725,
          13.344402249935996,
          3.4239212354396726,
          30.034930882316587,
          4.462986536505128,
          8.652199012340043,
          13.75931863881363,
          17.312419953426573,
          4.288944938388995,
          8.645001739960174,
          9.68291835331241,
          12.265266817591352,
          5.440721256267937,
          16.821905027117108,
          30.051832241486284,
          24.636068374951186
         ]
        },
        {
         "type": "surface",
         "x": [
          -2.79824223228232,
          -2.0223161855050655,
          -1.2463901387278113,
          -0.4704640919505567,
          0.30546195482669747,
          1.0813880016039517,
          1.8573140483812067,
          2.633240095158461,
          3.409166141935715,
          4.185092188712969
         ],
         "y": [
          -2.6417140300685125,
          -1.8917018780748993,
          -1.1416897260812864,
          -0.39167757408767345,
          0.3583345779059397,
          1.1083467298995529,
          1.8583588818931656,
          2.6083710338867787,
          3.358383185880392,
          4.108395337874005
         ],
         "z": [
          [
           19.619702856127397,
           10.47176620416585,
           2.314601818030786,
           18.301587621752397,
           11.713452856127395,
           20.72642282683052,
           1.2247062130609887,
           20.472829180840627,
           16.98021372612576,
           22.425366918627397
          ],
          [
           14.777716477472557,
           8.682920019213332,
           11.312658946100845,
           12.93473581511177,
           4.34814275143423,
           10.468863013152166,
           8.853833715502395,
           7.755715760473384,
           27.999909917894975,
           10.469075665108452
          ],
          [
           20.518560449663774,
           7.836085836474075,
           29.020474859482484,
           14.968579809252395,
           9.099973194207513,
           20.09454516607918,
           10.470719512097187,
           22.20944205958046,
           10.46793300629233,
           9.91306833464302
          ],
          [
           2.487866918627395,
           3.802564184252395,
           21.5751939221064,
           14.219068090502395,
           11.76334623533882,
           16.772764246050492,
           8.4327960415522,
           28.169797460619584,
           8.246786583801685,
           4.3549734464159595
          ],
          [
           7.82676462370552,
           14.32355046499112,
           13.230526427809371,
           22.819409887377397,
           5.5419798607018205,
           11.203662912432327,
           5.171627865243925,
           20.825034151548216,
           3.4003660031044713,
           11.224488775316848
          ],
          [
           10.819218657050504,
           7.5707984371820825,
           2.671765844408645,
           10.469075543780724,
           11.042142431322707,
           10.469081859295981,
           10.469080584960011,
           6.195982258600514,
           33.43647475454606,
           9.121344442550315
          ],
          [
           13.115918676439895,
           17.135938207689897,
           18.491694625538067,
           18.413632909838334,
           15.27316883634291,
           10.31970309358201,
           16.958481566120163,
           20.596995870653764,
           10.92735056120552,
           20.972836541490388
          ],
          [
           10.387631750401914,
           9.854566137377395,
           13.224438020914084,
           10.438887515583154,
           17.232618441643417,
           6.2256633524248794,
           10.666317185971076,
           6.244897409072399,
           6.007485509462702,
           7.995923559252395
          ],
          [
           1.7283744389383155,
           16.440747778002397,
           10.467223401936774,
           10.405797460384743,
           7.567519704882278,
           10.467302562207651,
           3.0553312702814477,
           29.957611692995904,
           4.530332487147524,
           8.577155317556452
          ],
          [
           10.469074879643737,
           20.571469823900834,
           4.210571875866725,
           8.799079905335082,
           10.466842702582124,
           12.200131933275832,
           5.385083599027943,
           16.341214801255838,
           29.727425138537065,
           24.625318090502397
          ]
         ]
        }
       ],
       "layout": {
        "legend": {
         "tracegroupgap": 0
        },
        "margin": {
         "t": 60
        },
        "scene": {
         "domain": {
          "x": [
           0,
           1
          ],
          "y": [
           0,
           1
          ]
         },
         "xaxis": {
          "title": {
           "text": "x"
          }
         },
         "yaxis": {
          "title": {
           "text": "y"
          }
         },
         "zaxis": {
          "range": [
           0,
           35
          ],
          "title": {
           "text": "z"
          }
         }
        },
        "template": {
         "data": {
          "bar": [
           {
            "error_x": {
             "color": "#2a3f5f"
            },
            "error_y": {
             "color": "#2a3f5f"
            },
            "marker": {
             "line": {
              "color": "#E5ECF6",
              "width": 0.5
             }
            },
            "type": "bar"
           }
          ],
          "barpolar": [
           {
            "marker": {
             "line": {
              "color": "#E5ECF6",
              "width": 0.5
             }
            },
            "type": "barpolar"
           }
          ],
          "carpet": [
           {
            "aaxis": {
             "endlinecolor": "#2a3f5f",
             "gridcolor": "white",
             "linecolor": "white",
             "minorgridcolor": "white",
             "startlinecolor": "#2a3f5f"
            },
            "baxis": {
             "endlinecolor": "#2a3f5f",
             "gridcolor": "white",
             "linecolor": "white",
             "minorgridcolor": "white",
             "startlinecolor": "#2a3f5f"
            },
            "type": "carpet"
           }
          ],
          "choropleth": [
           {
            "colorbar": {
             "outlinewidth": 0,
             "ticks": ""
            },
            "type": "choropleth"
           }
          ],
          "contour": [
           {
            "colorbar": {
             "outlinewidth": 0,
             "ticks": ""
            },
            "colorscale": [
             [
              0,
              "#0d0887"
             ],
             [
              0.1111111111111111,
              "#46039f"
             ],
             [
              0.2222222222222222,
              "#7201a8"
             ],
             [
              0.3333333333333333,
              "#9c179e"
             ],
             [
              0.4444444444444444,
              "#bd3786"
             ],
             [
              0.5555555555555556,
              "#d8576b"
             ],
             [
              0.6666666666666666,
              "#ed7953"
             ],
             [
              0.7777777777777778,
              "#fb9f3a"
             ],
             [
              0.8888888888888888,
              "#fdca26"
             ],
             [
              1,
              "#f0f921"
             ]
            ],
            "type": "contour"
           }
          ],
          "contourcarpet": [
           {
            "colorbar": {
             "outlinewidth": 0,
             "ticks": ""
            },
            "type": "contourcarpet"
           }
          ],
          "heatmap": [
           {
            "colorbar": {
             "outlinewidth": 0,
             "ticks": ""
            },
            "colorscale": [
             [
              0,
              "#0d0887"
             ],
             [
              0.1111111111111111,
              "#46039f"
             ],
             [
              0.2222222222222222,
              "#7201a8"
             ],
             [
              0.3333333333333333,
              "#9c179e"
             ],
             [
              0.4444444444444444,
              "#bd3786"
             ],
             [
              0.5555555555555556,
              "#d8576b"
             ],
             [
              0.6666666666666666,
              "#ed7953"
             ],
             [
              0.7777777777777778,
              "#fb9f3a"
             ],
             [
              0.8888888888888888,
              "#fdca26"
             ],
             [
              1,
              "#f0f921"
             ]
            ],
            "type": "heatmap"
           }
          ],
          "heatmapgl": [
           {
            "colorbar": {
             "outlinewidth": 0,
             "ticks": ""
            },
            "colorscale": [
             [
              0,
              "#0d0887"
             ],
             [
              0.1111111111111111,
              "#46039f"
             ],
             [
              0.2222222222222222,
              "#7201a8"
             ],
             [
              0.3333333333333333,
              "#9c179e"
             ],
             [
              0.4444444444444444,
              "#bd3786"
             ],
             [
              0.5555555555555556,
              "#d8576b"
             ],
             [
              0.6666666666666666,
              "#ed7953"
             ],
             [
              0.7777777777777778,
              "#fb9f3a"
             ],
             [
              0.8888888888888888,
              "#fdca26"
             ],
             [
              1,
              "#f0f921"
             ]
            ],
            "type": "heatmapgl"
           }
          ],
          "histogram": [
           {
            "marker": {
             "colorbar": {
              "outlinewidth": 0,
              "ticks": ""
             }
            },
            "type": "histogram"
           }
          ],
          "histogram2d": [
           {
            "colorbar": {
             "outlinewidth": 0,
             "ticks": ""
            },
            "colorscale": [
             [
              0,
              "#0d0887"
             ],
             [
              0.1111111111111111,
              "#46039f"
             ],
             [
              0.2222222222222222,
              "#7201a8"
             ],
             [
              0.3333333333333333,
              "#9c179e"
             ],
             [
              0.4444444444444444,
              "#bd3786"
             ],
             [
              0.5555555555555556,
              "#d8576b"
             ],
             [
              0.6666666666666666,
              "#ed7953"
             ],
             [
              0.7777777777777778,
              "#fb9f3a"
             ],
             [
              0.8888888888888888,
              "#fdca26"
             ],
             [
              1,
              "#f0f921"
             ]
            ],
            "type": "histogram2d"
           }
          ],
          "histogram2dcontour": [
           {
            "colorbar": {
             "outlinewidth": 0,
             "ticks": ""
            },
            "colorscale": [
             [
              0,
              "#0d0887"
             ],
             [
              0.1111111111111111,
              "#46039f"
             ],
             [
              0.2222222222222222,
              "#7201a8"
             ],
             [
              0.3333333333333333,
              "#9c179e"
             ],
             [
              0.4444444444444444,
              "#bd3786"
             ],
             [
              0.5555555555555556,
              "#d8576b"
             ],
             [
              0.6666666666666666,
              "#ed7953"
             ],
             [
              0.7777777777777778,
              "#fb9f3a"
             ],
             [
              0.8888888888888888,
              "#fdca26"
             ],
             [
              1,
              "#f0f921"
             ]
            ],
            "type": "histogram2dcontour"
           }
          ],
          "mesh3d": [
           {
            "colorbar": {
             "outlinewidth": 0,
             "ticks": ""
            },
            "type": "mesh3d"
           }
          ],
          "parcoords": [
           {
            "line": {
             "colorbar": {
              "outlinewidth": 0,
              "ticks": ""
             }
            },
            "type": "parcoords"
           }
          ],
          "pie": [
           {
            "automargin": true,
            "type": "pie"
           }
          ],
          "scatter": [
           {
            "marker": {
             "colorbar": {
              "outlinewidth": 0,
              "ticks": ""
             }
            },
            "type": "scatter"
           }
          ],
          "scatter3d": [
           {
            "line": {
             "colorbar": {
              "outlinewidth": 0,
              "ticks": ""
             }
            },
            "marker": {
             "colorbar": {
              "outlinewidth": 0,
              "ticks": ""
             }
            },
            "type": "scatter3d"
           }
          ],
          "scattercarpet": [
           {
            "marker": {
             "colorbar": {
              "outlinewidth": 0,
              "ticks": ""
             }
            },
            "type": "scattercarpet"
           }
          ],
          "scattergeo": [
           {
            "marker": {
             "colorbar": {
              "outlinewidth": 0,
              "ticks": ""
             }
            },
            "type": "scattergeo"
           }
          ],
          "scattergl": [
           {
            "marker": {
             "colorbar": {
              "outlinewidth": 0,
              "ticks": ""
             }
            },
            "type": "scattergl"
           }
          ],
          "scattermapbox": [
           {
            "marker": {
             "colorbar": {
              "outlinewidth": 0,
              "ticks": ""
             }
            },
            "type": "scattermapbox"
           }
          ],
          "scatterpolar": [
           {
            "marker": {
             "colorbar": {
              "outlinewidth": 0,
              "ticks": ""
             }
            },
            "type": "scatterpolar"
           }
          ],
          "scatterpolargl": [
           {
            "marker": {
             "colorbar": {
              "outlinewidth": 0,
              "ticks": ""
             }
            },
            "type": "scatterpolargl"
           }
          ],
          "scatterternary": [
           {
            "marker": {
             "colorbar": {
              "outlinewidth": 0,
              "ticks": ""
             }
            },
            "type": "scatterternary"
           }
          ],
          "surface": [
           {
            "colorbar": {
             "outlinewidth": 0,
             "ticks": ""
            },
            "colorscale": [
             [
              0,
              "#0d0887"
             ],
             [
              0.1111111111111111,
              "#46039f"
             ],
             [
              0.2222222222222222,
              "#7201a8"
             ],
             [
              0.3333333333333333,
              "#9c179e"
             ],
             [
              0.4444444444444444,
              "#bd3786"
             ],
             [
              0.5555555555555556,
              "#d8576b"
             ],
             [
              0.6666666666666666,
              "#ed7953"
             ],
             [
              0.7777777777777778,
              "#fb9f3a"
             ],
             [
              0.8888888888888888,
              "#fdca26"
             ],
             [
              1,
              "#f0f921"
             ]
            ],
            "type": "surface"
           }
          ],
          "table": [
           {
            "cells": {
             "fill": {
              "color": "#EBF0F8"
             },
             "line": {
              "color": "white"
             }
            },
            "header": {
             "fill": {
              "color": "#C8D4E3"
             },
             "line": {
              "color": "white"
             }
            },
            "type": "table"
           }
          ]
         },
         "layout": {
          "annotationdefaults": {
           "arrowcolor": "#2a3f5f",
           "arrowhead": 0,
           "arrowwidth": 1
          },
          "autotypenumbers": "strict",
          "coloraxis": {
           "colorbar": {
            "outlinewidth": 0,
            "ticks": ""
           }
          },
          "colorscale": {
           "diverging": [
            [
             0,
             "#8e0152"
            ],
            [
             0.1,
             "#c51b7d"
            ],
            [
             0.2,
             "#de77ae"
            ],
            [
             0.3,
             "#f1b6da"
            ],
            [
             0.4,
             "#fde0ef"
            ],
            [
             0.5,
             "#f7f7f7"
            ],
            [
             0.6,
             "#e6f5d0"
            ],
            [
             0.7,
             "#b8e186"
            ],
            [
             0.8,
             "#7fbc41"
            ],
            [
             0.9,
             "#4d9221"
            ],
            [
             1,
             "#276419"
            ]
           ],
           "sequential": [
            [
             0,
             "#0d0887"
            ],
            [
             0.1111111111111111,
             "#46039f"
            ],
            [
             0.2222222222222222,
             "#7201a8"
            ],
            [
             0.3333333333333333,
             "#9c179e"
            ],
            [
             0.4444444444444444,
             "#bd3786"
            ],
            [
             0.5555555555555556,
             "#d8576b"
            ],
            [
             0.6666666666666666,
             "#ed7953"
            ],
            [
             0.7777777777777778,
             "#fb9f3a"
            ],
            [
             0.8888888888888888,
             "#fdca26"
            ],
            [
             1,
             "#f0f921"
            ]
           ],
           "sequentialminus": [
            [
             0,
             "#0d0887"
            ],
            [
             0.1111111111111111,
             "#46039f"
            ],
            [
             0.2222222222222222,
             "#7201a8"
            ],
            [
             0.3333333333333333,
             "#9c179e"
            ],
            [
             0.4444444444444444,
             "#bd3786"
            ],
            [
             0.5555555555555556,
             "#d8576b"
            ],
            [
             0.6666666666666666,
             "#ed7953"
            ],
            [
             0.7777777777777778,
             "#fb9f3a"
            ],
            [
             0.8888888888888888,
             "#fdca26"
            ],
            [
             1,
             "#f0f921"
            ]
           ]
          },
          "colorway": [
           "#636efa",
           "#EF553B",
           "#00cc96",
           "#ab63fa",
           "#FFA15A",
           "#19d3f3",
           "#FF6692",
           "#B6E880",
           "#FF97FF",
           "#FECB52"
          ],
          "font": {
           "color": "#2a3f5f"
          },
          "geo": {
           "bgcolor": "white",
           "lakecolor": "white",
           "landcolor": "#E5ECF6",
           "showlakes": true,
           "showland": true,
           "subunitcolor": "white"
          },
          "hoverlabel": {
           "align": "left"
          },
          "hovermode": "closest",
          "mapbox": {
           "style": "light"
          },
          "paper_bgcolor": "white",
          "plot_bgcolor": "#E5ECF6",
          "polar": {
           "angularaxis": {
            "gridcolor": "white",
            "linecolor": "white",
            "ticks": ""
           },
           "bgcolor": "#E5ECF6",
           "radialaxis": {
            "gridcolor": "white",
            "linecolor": "white",
            "ticks": ""
           }
          },
          "scene": {
           "xaxis": {
            "backgroundcolor": "#E5ECF6",
            "gridcolor": "white",
            "gridwidth": 2,
            "linecolor": "white",
            "showbackground": true,
            "ticks": "",
            "zerolinecolor": "white"
           },
           "yaxis": {
            "backgroundcolor": "#E5ECF6",
            "gridcolor": "white",
            "gridwidth": 2,
            "linecolor": "white",
            "showbackground": true,
            "ticks": "",
            "zerolinecolor": "white"
           },
           "zaxis": {
            "backgroundcolor": "#E5ECF6",
            "gridcolor": "white",
            "gridwidth": 2,
            "linecolor": "white",
            "showbackground": true,
            "ticks": "",
            "zerolinecolor": "white"
           }
          },
          "shapedefaults": {
           "line": {
            "color": "#2a3f5f"
           }
          },
          "ternary": {
           "aaxis": {
            "gridcolor": "white",
            "linecolor": "white",
            "ticks": ""
           },
           "baxis": {
            "gridcolor": "white",
            "linecolor": "white",
            "ticks": ""
           },
           "bgcolor": "#E5ECF6",
           "caxis": {
            "gridcolor": "white",
            "linecolor": "white",
            "ticks": ""
           }
          },
          "title": {
           "x": 0.05
          },
          "xaxis": {
           "automargin": true,
           "gridcolor": "white",
           "linecolor": "white",
           "ticks": "",
           "title": {
            "standoff": 15
           },
           "zerolinecolor": "white",
           "zerolinewidth": 2
          },
          "yaxis": {
           "automargin": true,
           "gridcolor": "white",
           "linecolor": "white",
           "ticks": "",
           "title": {
            "standoff": 15
           },
           "zerolinecolor": "white",
           "zerolinewidth": 2
          }
         }
        }
       }
      },
      "text/html": [
       "<div>                            <div id=\"e0f3a454-7f31-4bb8-a849-b0b25d41eb55\" class=\"plotly-graph-div\" style=\"height:525px; width:100%;\"></div>            <script type=\"text/javascript\">                require([\"plotly\"], function(Plotly) {                    window.PLOTLYENV=window.PLOTLYENV || {};                                    if (document.getElementById(\"e0f3a454-7f31-4bb8-a849-b0b25d41eb55\")) {                    Plotly.newPlot(                        \"e0f3a454-7f31-4bb8-a849-b0b25d41eb55\",                        [{\"hovertemplate\": \"x=%{x}<br>y=%{y}<br>z=%{z}<extra></extra>\", \"legendgroup\": \"\", \"marker\": {\"color\": \"#636efa\", \"symbol\": \"circle\"}, \"mode\": \"markers\", \"name\": \"\", \"scene\": \"scene\", \"showlegend\": false, \"type\": \"scatter3d\", \"x\": [3.8822216410935146, -0.14883198887024207, 0.6721904900331488, 1.04260275575436, -1.818954513167986, 1.4568960963189808, -0.5346661674014066, 4.185092188712969, 1.4505128619919105, 4.031172075744557, 3.476077664609412, -2.4055958048705817, 2.8069845500039845, 3.1227956996657946, -0.10477402806462122, -2.79824223228232, -0.5464887403036629, 1.6965391790953577, 3.6676084375114284, -2.101099529329196, -2.6099820255286126, 0.5644898429262128, 3.33264222632738, 2.82396105704783, -2.698931123623738, 2.4860710843622256, -2.606059709701162, 3.5861582664733564, -0.47575819126009433, 1.8365930998427613, 0.9976304935417546, -0.8981458079389446, 3.454159940699512, -2.7055577503155095, 0.19469782888187037, 2.7904916779809232, 0.6243682635326016, 3.4513409601710263, -0.01376698456256742, -0.18041595569357494, -1.9197489647033685, 2.9970910970831026, 3.0809457464087115, 1.7160548304130314, 1.1386792216263855, 2.1245219708627063, 1.8201864025449783, 4.113129459946347, 0.5306009641288258, -2.070132515943952, -2.516307829513531, 2.5218790714744825, 0.08942773939401505, 1.0053277854070135, 2.2272462508988564, 2.735930311160957, 1.1129077799088343, -0.4077203039833974, 3.5435506778730206, 1.4779350743952673, 2.9856383901662493, 3.1997597581927764, 0.14408619544010337, 3.6596986394030386, 3.198658383612459, 0.3673390674210468, 3.3343783440511583, 4.158540573256569, -2.6876293988734608, -2.6591235297768145, 2.4265075572261523, -2.7442967506219684, 0.8533962518910121, 3.4648492690854056, 3.605715350342636, 0.5236029129563096, 1.8533785357527846, -1.5176598905013843, 0.4636214775597032, 2.4941344909062764, -0.633182309373324, 3.6158685027647195, 2.018224395210053, 1.440807370125607, 0.3022797248415219, 3.026456398559942, 1.0691984748266363, 4.122041981858704, 0.7245652441714876, 2.5058808143387807, 3.261279457404168, 0.4072661238653472, 1.137819194957523, -2.5550981191687656, -0.1642023078134196, 1.9509262523646873, 1.852028272697928, -1.302416152906733, 3.3149503271397958, 2.035201075155463], \"y\": [-1.8101965591846882, -2.6048345754449773, 0.12996199533421215, 3.6939785154650346, -2.427965603559091, 3.592735396946064, -0.23525661830471556, -0.6241640154035442, 3.5647702148739855, 1.4427541083215925, 0.39783493413230664, -0.5481067845334637, 0.9437036751832886, 0.42171871575275865, -1.8050476030487141, -0.21748227761365424, 2.5998330976327866, 1.3580903054916087, 2.9097604726733586, -0.004050915715495762, 3.7818152584339924, 1.7999212057271947, 3.6726704275525996, -2.0797803993687336, -1.0689873825198353, 2.7890075132825736, 2.9066336008907188, -2.6417140300685125, 1.682232815537649, 1.7545912419725083, -1.1155875734006866, 1.1927522739581442, 2.17201442193213, 2.2345740144831128, 2.98375736799309, 2.859669566297387, 2.2347613666681694, 3.2766029667636394, 2.247068515790537, 1.4804480319771747, -1.1450752672130065, -2.2244581019123757, -0.46601442844159724, 4.012729882969803, -1.4813835206361343, -2.398787236669456, -0.871933479366064, -1.237304360573104, -1.7951937533560587, -2.2771647006418325, 2.116283881882244, 0.5441358187264935, 0.649332833681072, 1.3277602384779907, 1.887849077058588, -0.15409647797384318, -1.9887738410648226, -1.8572038847341623, 3.8237893527546216, -2.3279915652581185, -1.0417338695673983, 1.5389595804405145, 4.108395337874005, -1.2574157939393529, 0.832859513884534, -1.096371248284566, 1.313766513926777, -1.084068829117184, -1.0765472535480614, 3.4953404060875615, 0.6225446789151459, -1.0938638114526502, 3.263472961880269, 0.6877415550946107, 0.9862388286017421, 1.7839222496693399, -2.4511989168581896, -1.5716301244613609, 2.124311119576812, -0.6866838158073056, -0.08556924001130906, 0.021199810853469447, 2.4845747244987333, 3.049819923384381, 2.2936411035553537, -1.4973068058681123, 0.014486147457983378, 2.9460859378699915, -1.0628287690480493, -0.1777949906785663, -1.0931726722079573, 3.6988545639113015, -1.4316095941737372, -0.84375669675762, 2.6437670576271275, 2.1220504568661385, 0.9238643313842876, 3.42189494092806, 3.805319651363339, 4.078721409895111], \"z\": [19.617700897222452, 9.454024924421777, 2.3926396632650486, 18.298747967604676, 11.706614570871748, 20.66605817317079, 4.339996527262667, 20.428170845126694, 17.034752475063602, 22.839206680655327, 15.159896891325458, 8.666410640756673, 12.204921578074375, 12.939774312630478, 4.42204282916885, 7.394691711147534, 8.874327304284677, 7.776497301722314, 27.80848437639765, 6.984580672137963, 21.771292240615992, 6.969669748461682, 29.09463384167063, 14.95652717824912, 9.174868107839735, 16.242939905102315, 17.685654297719328, 22.041616547536147, 6.134515549522834, 10.677655923610088, 1.4071930912605524, 3.0589757205881085, 21.179473817011143, 14.296614060204293, 11.660197617436623, 16.890220313586866, 8.365290123438363, 28.21392570992971, 8.32277852720898, 4.427203530536765, 8.00978225227158, 14.399594077571285, 13.01950436149631, 22.812230374791355, 5.614736760105202, 10.950552317340259, 4.8662076812496675, 20.901153310390217, 3.4734650591798406, 11.138391938279273, 11.12715670947695, 8.204789014775853, 2.66233608952867, 7.152702581733311, 10.372156666502296, 9.174501546867038, 6.631609441335536, 6.2702833376169025, 33.49173720324617, 8.889415664829869, 13.121201701882116, 16.76267303990486, 18.531948802833295, 18.269287115897367, 15.349936501611197, 5.355707077737162, 17.045901307002378, 21.493416023607512, 11.130926774262692, 21.04918934180446, 10.465589963281843, 9.830994457382594, 13.320717451787678, 17.357174495570053, 17.325796006019882, 6.300361124924468, 11.387592483623026, 6.321319859472338, 6.0813135598936485, 7.984814435781604, 1.8618303115925312, 16.43840756866645, 13.746681681229916, 13.391137739302598, 7.19625725988725, 13.344402249935996, 3.4239212354396726, 30.034930882316587, 4.462986536505128, 8.652199012340043, 13.75931863881363, 17.312419953426573, 4.288944938388995, 8.645001739960174, 9.68291835331241, 12.265266817591352, 5.440721256267937, 16.821905027117108, 30.051832241486284, 24.636068374951186]}, {\"type\": \"surface\", \"x\": [-2.79824223228232, -2.0223161855050655, -1.2463901387278113, -0.4704640919505567, 0.30546195482669747, 1.0813880016039517, 1.8573140483812067, 2.633240095158461, 3.409166141935715, 4.185092188712969], \"y\": [-2.6417140300685125, -1.8917018780748993, -1.1416897260812864, -0.39167757408767345, 0.3583345779059397, 1.1083467298995529, 1.8583588818931656, 2.6083710338867787, 3.358383185880392, 4.108395337874005], \"z\": [[19.619702856127397, 10.47176620416585, 2.314601818030786, 18.301587621752397, 11.713452856127395, 20.72642282683052, 1.2247062130609887, 20.472829180840627, 16.98021372612576, 22.425366918627397], [14.777716477472557, 8.682920019213332, 11.312658946100845, 12.93473581511177, 4.34814275143423, 10.468863013152166, 8.853833715502395, 7.755715760473384, 27.999909917894975, 10.469075665108452], [20.518560449663774, 7.836085836474075, 29.020474859482484, 14.968579809252395, 9.099973194207513, 20.09454516607918, 10.470719512097187, 22.20944205958046, 10.46793300629233, 9.91306833464302], [2.487866918627395, 3.802564184252395, 21.5751939221064, 14.219068090502395, 11.76334623533882, 16.772764246050492, 8.4327960415522, 28.169797460619584, 8.246786583801685, 4.3549734464159595], [7.82676462370552, 14.32355046499112, 13.230526427809371, 22.819409887377397, 5.5419798607018205, 11.203662912432327, 5.171627865243925, 20.825034151548216, 3.4003660031044713, 11.224488775316848], [10.819218657050504, 7.5707984371820825, 2.671765844408645, 10.469075543780724, 11.042142431322707, 10.469081859295981, 10.469080584960011, 6.195982258600514, 33.43647475454606, 9.121344442550315], [13.115918676439895, 17.135938207689897, 18.491694625538067, 18.413632909838334, 15.27316883634291, 10.31970309358201, 16.958481566120163, 20.596995870653764, 10.92735056120552, 20.972836541490388], [10.387631750401914, 9.854566137377395, 13.224438020914084, 10.438887515583154, 17.232618441643417, 6.2256633524248794, 10.666317185971076, 6.244897409072399, 6.007485509462702, 7.995923559252395], [1.7283744389383155, 16.440747778002397, 10.467223401936774, 10.405797460384743, 7.567519704882278, 10.467302562207651, 3.0553312702814477, 29.957611692995904, 4.530332487147524, 8.577155317556452], [10.469074879643737, 20.571469823900834, 4.210571875866725, 8.799079905335082, 10.466842702582124, 12.200131933275832, 5.385083599027943, 16.341214801255838, 29.727425138537065, 24.625318090502397]]}],                        {\"legend\": {\"tracegroupgap\": 0}, \"margin\": {\"t\": 60}, \"scene\": {\"domain\": {\"x\": [0.0, 1.0], \"y\": [0.0, 1.0]}, \"xaxis\": {\"title\": {\"text\": \"x\"}}, \"yaxis\": {\"title\": {\"text\": \"y\"}}, \"zaxis\": {\"range\": [0, 35], \"title\": {\"text\": \"z\"}}}, \"template\": {\"data\": {\"bar\": [{\"error_x\": {\"color\": \"#2a3f5f\"}, \"error_y\": {\"color\": \"#2a3f5f\"}, \"marker\": {\"line\": {\"color\": \"#E5ECF6\", \"width\": 0.5}}, \"type\": \"bar\"}], \"barpolar\": [{\"marker\": {\"line\": {\"color\": \"#E5ECF6\", \"width\": 0.5}}, \"type\": \"barpolar\"}], \"carpet\": [{\"aaxis\": {\"endlinecolor\": \"#2a3f5f\", \"gridcolor\": \"white\", \"linecolor\": \"white\", \"minorgridcolor\": \"white\", \"startlinecolor\": \"#2a3f5f\"}, \"baxis\": {\"endlinecolor\": \"#2a3f5f\", \"gridcolor\": \"white\", \"linecolor\": \"white\", \"minorgridcolor\": \"white\", \"startlinecolor\": \"#2a3f5f\"}, \"type\": \"carpet\"}], \"choropleth\": [{\"colorbar\": {\"outlinewidth\": 0, \"ticks\": \"\"}, \"type\": \"choropleth\"}], \"contour\": [{\"colorbar\": {\"outlinewidth\": 0, \"ticks\": \"\"}, \"colorscale\": [[0.0, \"#0d0887\"], [0.1111111111111111, \"#46039f\"], [0.2222222222222222, \"#7201a8\"], [0.3333333333333333, \"#9c179e\"], [0.4444444444444444, \"#bd3786\"], [0.5555555555555556, \"#d8576b\"], [0.6666666666666666, \"#ed7953\"], [0.7777777777777778, \"#fb9f3a\"], [0.8888888888888888, \"#fdca26\"], [1.0, \"#f0f921\"]], \"type\": \"contour\"}], \"contourcarpet\": [{\"colorbar\": {\"outlinewidth\": 0, \"ticks\": \"\"}, \"type\": \"contourcarpet\"}], \"heatmap\": [{\"colorbar\": {\"outlinewidth\": 0, \"ticks\": \"\"}, \"colorscale\": [[0.0, \"#0d0887\"], [0.1111111111111111, \"#46039f\"], [0.2222222222222222, \"#7201a8\"], [0.3333333333333333, \"#9c179e\"], [0.4444444444444444, \"#bd3786\"], [0.5555555555555556, \"#d8576b\"], [0.6666666666666666, \"#ed7953\"], [0.7777777777777778, \"#fb9f3a\"], [0.8888888888888888, \"#fdca26\"], [1.0, \"#f0f921\"]], \"type\": \"heatmap\"}], \"heatmapgl\": [{\"colorbar\": {\"outlinewidth\": 0, \"ticks\": \"\"}, \"colorscale\": [[0.0, \"#0d0887\"], [0.1111111111111111, \"#46039f\"], [0.2222222222222222, \"#7201a8\"], [0.3333333333333333, \"#9c179e\"], [0.4444444444444444, \"#bd3786\"], [0.5555555555555556, \"#d8576b\"], [0.6666666666666666, \"#ed7953\"], [0.7777777777777778, \"#fb9f3a\"], [0.8888888888888888, \"#fdca26\"], [1.0, \"#f0f921\"]], \"type\": \"heatmapgl\"}], \"histogram\": [{\"marker\": {\"colorbar\": {\"outlinewidth\": 0, \"ticks\": \"\"}}, \"type\": \"histogram\"}], \"histogram2d\": [{\"colorbar\": {\"outlinewidth\": 0, \"ticks\": \"\"}, \"colorscale\": [[0.0, \"#0d0887\"], [0.1111111111111111, \"#46039f\"], [0.2222222222222222, \"#7201a8\"], [0.3333333333333333, \"#9c179e\"], [0.4444444444444444, \"#bd3786\"], [0.5555555555555556, \"#d8576b\"], [0.6666666666666666, \"#ed7953\"], [0.7777777777777778, \"#fb9f3a\"], [0.8888888888888888, \"#fdca26\"], [1.0, \"#f0f921\"]], \"type\": \"histogram2d\"}], \"histogram2dcontour\": [{\"colorbar\": {\"outlinewidth\": 0, \"ticks\": \"\"}, \"colorscale\": [[0.0, \"#0d0887\"], [0.1111111111111111, \"#46039f\"], [0.2222222222222222, \"#7201a8\"], [0.3333333333333333, \"#9c179e\"], [0.4444444444444444, \"#bd3786\"], [0.5555555555555556, \"#d8576b\"], [0.6666666666666666, \"#ed7953\"], [0.7777777777777778, \"#fb9f3a\"], [0.8888888888888888, \"#fdca26\"], [1.0, \"#f0f921\"]], \"type\": \"histogram2dcontour\"}], \"mesh3d\": [{\"colorbar\": {\"outlinewidth\": 0, \"ticks\": \"\"}, \"type\": \"mesh3d\"}], \"parcoords\": [{\"line\": {\"colorbar\": {\"outlinewidth\": 0, \"ticks\": \"\"}}, \"type\": \"parcoords\"}], \"pie\": [{\"automargin\": true, \"type\": \"pie\"}], \"scatter\": [{\"marker\": {\"colorbar\": {\"outlinewidth\": 0, \"ticks\": \"\"}}, \"type\": \"scatter\"}], \"scatter3d\": [{\"line\": {\"colorbar\": {\"outlinewidth\": 0, \"ticks\": \"\"}}, \"marker\": {\"colorbar\": {\"outlinewidth\": 0, \"ticks\": \"\"}}, \"type\": \"scatter3d\"}], \"scattercarpet\": [{\"marker\": {\"colorbar\": {\"outlinewidth\": 0, \"ticks\": \"\"}}, \"type\": \"scattercarpet\"}], \"scattergeo\": [{\"marker\": {\"colorbar\": {\"outlinewidth\": 0, \"ticks\": \"\"}}, \"type\": \"scattergeo\"}], \"scattergl\": [{\"marker\": {\"colorbar\": {\"outlinewidth\": 0, \"ticks\": \"\"}}, \"type\": \"scattergl\"}], \"scattermapbox\": [{\"marker\": {\"colorbar\": {\"outlinewidth\": 0, \"ticks\": \"\"}}, \"type\": \"scattermapbox\"}], \"scatterpolar\": [{\"marker\": {\"colorbar\": {\"outlinewidth\": 0, \"ticks\": \"\"}}, \"type\": \"scatterpolar\"}], \"scatterpolargl\": [{\"marker\": {\"colorbar\": {\"outlinewidth\": 0, \"ticks\": \"\"}}, \"type\": \"scatterpolargl\"}], \"scatterternary\": [{\"marker\": {\"colorbar\": {\"outlinewidth\": 0, \"ticks\": \"\"}}, \"type\": \"scatterternary\"}], \"surface\": [{\"colorbar\": {\"outlinewidth\": 0, \"ticks\": \"\"}, \"colorscale\": [[0.0, \"#0d0887\"], [0.1111111111111111, \"#46039f\"], [0.2222222222222222, \"#7201a8\"], [0.3333333333333333, \"#9c179e\"], [0.4444444444444444, \"#bd3786\"], [0.5555555555555556, \"#d8576b\"], [0.6666666666666666, \"#ed7953\"], [0.7777777777777778, \"#fb9f3a\"], [0.8888888888888888, \"#fdca26\"], [1.0, \"#f0f921\"]], \"type\": \"surface\"}], \"table\": [{\"cells\": {\"fill\": {\"color\": \"#EBF0F8\"}, \"line\": {\"color\": \"white\"}}, \"header\": {\"fill\": {\"color\": \"#C8D4E3\"}, \"line\": {\"color\": \"white\"}}, \"type\": \"table\"}]}, \"layout\": {\"annotationdefaults\": {\"arrowcolor\": \"#2a3f5f\", \"arrowhead\": 0, \"arrowwidth\": 1}, \"autotypenumbers\": \"strict\", \"coloraxis\": {\"colorbar\": {\"outlinewidth\": 0, \"ticks\": \"\"}}, \"colorscale\": {\"diverging\": [[0, \"#8e0152\"], [0.1, \"#c51b7d\"], [0.2, \"#de77ae\"], [0.3, \"#f1b6da\"], [0.4, \"#fde0ef\"], [0.5, \"#f7f7f7\"], [0.6, \"#e6f5d0\"], [0.7, \"#b8e186\"], [0.8, \"#7fbc41\"], [0.9, \"#4d9221\"], [1, \"#276419\"]], \"sequential\": [[0.0, \"#0d0887\"], [0.1111111111111111, \"#46039f\"], [0.2222222222222222, \"#7201a8\"], [0.3333333333333333, \"#9c179e\"], [0.4444444444444444, \"#bd3786\"], [0.5555555555555556, \"#d8576b\"], [0.6666666666666666, \"#ed7953\"], [0.7777777777777778, \"#fb9f3a\"], [0.8888888888888888, \"#fdca26\"], [1.0, \"#f0f921\"]], \"sequentialminus\": [[0.0, \"#0d0887\"], [0.1111111111111111, \"#46039f\"], [0.2222222222222222, \"#7201a8\"], [0.3333333333333333, \"#9c179e\"], [0.4444444444444444, \"#bd3786\"], [0.5555555555555556, \"#d8576b\"], [0.6666666666666666, \"#ed7953\"], [0.7777777777777778, \"#fb9f3a\"], [0.8888888888888888, \"#fdca26\"], [1.0, \"#f0f921\"]]}, \"colorway\": [\"#636efa\", \"#EF553B\", \"#00cc96\", \"#ab63fa\", \"#FFA15A\", \"#19d3f3\", \"#FF6692\", \"#B6E880\", \"#FF97FF\", \"#FECB52\"], \"font\": {\"color\": \"#2a3f5f\"}, \"geo\": {\"bgcolor\": \"white\", \"lakecolor\": \"white\", \"landcolor\": \"#E5ECF6\", \"showlakes\": true, \"showland\": true, \"subunitcolor\": \"white\"}, \"hoverlabel\": {\"align\": \"left\"}, \"hovermode\": \"closest\", \"mapbox\": {\"style\": \"light\"}, \"paper_bgcolor\": \"white\", \"plot_bgcolor\": \"#E5ECF6\", \"polar\": {\"angularaxis\": {\"gridcolor\": \"white\", \"linecolor\": \"white\", \"ticks\": \"\"}, \"bgcolor\": \"#E5ECF6\", \"radialaxis\": {\"gridcolor\": \"white\", \"linecolor\": \"white\", \"ticks\": \"\"}}, \"scene\": {\"xaxis\": {\"backgroundcolor\": \"#E5ECF6\", \"gridcolor\": \"white\", \"gridwidth\": 2, \"linecolor\": \"white\", \"showbackground\": true, \"ticks\": \"\", \"zerolinecolor\": \"white\"}, \"yaxis\": {\"backgroundcolor\": \"#E5ECF6\", \"gridcolor\": \"white\", \"gridwidth\": 2, \"linecolor\": \"white\", \"showbackground\": true, \"ticks\": \"\", \"zerolinecolor\": \"white\"}, \"zaxis\": {\"backgroundcolor\": \"#E5ECF6\", \"gridcolor\": \"white\", \"gridwidth\": 2, \"linecolor\": \"white\", \"showbackground\": true, \"ticks\": \"\", \"zerolinecolor\": \"white\"}}, \"shapedefaults\": {\"line\": {\"color\": \"#2a3f5f\"}}, \"ternary\": {\"aaxis\": {\"gridcolor\": \"white\", \"linecolor\": \"white\", \"ticks\": \"\"}, \"baxis\": {\"gridcolor\": \"white\", \"linecolor\": \"white\", \"ticks\": \"\"}, \"bgcolor\": \"#E5ECF6\", \"caxis\": {\"gridcolor\": \"white\", \"linecolor\": \"white\", \"ticks\": \"\"}}, \"title\": {\"x\": 0.05}, \"xaxis\": {\"automargin\": true, \"gridcolor\": \"white\", \"linecolor\": \"white\", \"ticks\": \"\", \"title\": {\"standoff\": 15}, \"zerolinecolor\": \"white\", \"zerolinewidth\": 2}, \"yaxis\": {\"automargin\": true, \"gridcolor\": \"white\", \"linecolor\": \"white\", \"ticks\": \"\", \"title\": {\"standoff\": 15}, \"zerolinecolor\": \"white\", \"zerolinewidth\": 2}}}},                        {\"responsive\": true}                    ).then(function(){\n",
       "                            \n",
       "var gd = document.getElementById('e0f3a454-7f31-4bb8-a849-b0b25d41eb55');\n",
       "var x = new MutationObserver(function (mutations, observer) {{\n",
       "        var display = window.getComputedStyle(gd).display;\n",
       "        if (!display || display === 'none') {{\n",
       "            console.log([gd, 'removed!']);\n",
       "            Plotly.purge(gd);\n",
       "            observer.disconnect();\n",
       "        }}\n",
       "}});\n",
       "\n",
       "// Listen for the removal of the full notebook cells\n",
       "var notebookContainer = gd.closest('#notebook-container');\n",
       "if (notebookContainer) {{\n",
       "    x.observe(notebookContainer, {childList: true});\n",
       "}}\n",
       "\n",
       "// Listen for the clearing of the current output cell\n",
       "var outputEl = gd.closest('.output');\n",
       "if (outputEl) {{\n",
       "    x.observe(outputEl, {childList: true});\n",
       "}}\n",
       "\n",
       "                        })                };                });            </script>        </div>"
      ]
     },
     "metadata": {},
     "output_type": "display_data"
    }
   ],
   "source": [
    "fig = px.scatter_3d(x=x.ravel(), y=y.ravel(), z=z.ravel())\n",
    "\n",
    "fig.add_trace(go.Surface(x = x_input, y = y_input, z =z_final))\n",
    "\n",
    "fig.update_layout(scene = dict(zaxis = dict(range=[0,35])))\n",
    "\n",
    "fig.show()"
   ]
  }
 ],
 "metadata": {
  "kernelspec": {
   "display_name": "Python 3",
   "language": "python",
   "name": "python3"
  },
  "language_info": {
   "codemirror_mode": {
    "name": "ipython",
    "version": 3
   },
   "file_extension": ".py",
   "mimetype": "text/x-python",
   "name": "python",
   "nbconvert_exporter": "python",
   "pygments_lexer": "ipython3",
   "version": "3.7.9"
  }
 },
 "nbformat": 4,
 "nbformat_minor": 5
}
